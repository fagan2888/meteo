{
 "cells": [
  {
   "cell_type": "code",
   "execution_count": 0,
   "metadata": {},
   "outputs": [],
   "source": [
    "import meteo\n",
    "import scipy.optimize as opt\n",
    "from IPython.html.widgets import interact\n",
    "import seaborn as sns\n",
    "sns.set_style('white')"
   ]
  },
  {
   "cell_type": "code",
   "execution_count": 0,
   "metadata": {},
   "outputs": [],
   "source": [
    "mod = meteo.Model('models/model.json', constants={'alpha': 3.0})"
   ]
  },
  {
   "cell_type": "code",
   "execution_count": 0,
   "metadata": {},
   "outputs": [],
   "source": [
    "(t_path,par_path,var_path) = mod.homotopy_bde({\"z\": 2.0},{\"z\": 3.0},{\"x\": 1.0},plot=True); sns.despine()\n",
    "#(t_path,par_path,var_path) = mod.homotopy_bde({\"z\": 2.0},{\"z\": 3.0},{\"x\": 1.0},plot=True)"
   ]
  },
  {
   "cell_type": "code",
   "execution_count": 0,
   "metadata": {},
   "outputs": [],
   "source": [
    "var_path[:,0]"
   ]
  },
  {
   "cell_type": "code",
   "execution_count": 0,
   "metadata": {},
   "outputs": [],
   "source": [
    "mod_de = meteo.Model('models/model_diffeq.json')"
   ]
  },
  {
   "cell_type": "code",
   "execution_count": 0,
   "metadata": {},
   "outputs": [],
   "source": [
    "alpha0 = 1.0\n",
    "alpha1 = 2.0\n",
    "\n",
    "xgrid = mod_de.arg_info['x']['grid']\n",
    "fgrid = np.exp(alpha0*xgrid)\n",
    "fpgrid = alpha0*np.exp(alpha0*xgrid)\n",
    "\n",
    "(t_path,par_path,var_path) = mod_de.homotopy_bde({\"alpha\":alpha0},{\"alpha\":alpha1},{\"f\":[fgrid,fpgrid]},delt=0.05)\n",
    "varf_dict = mod_de.array_to_dict(var_path[-1],mod_de.var_info,mod_de.var_sizes)"
   ]
  },
  {
   "cell_type": "code",
   "execution_count": 0,
   "metadata": {},
   "outputs": [],
   "source": [
    "grid = mod_de.arg_info['x']['grid']\n",
    "(f_fin,fp_fin) = varf_dict['f']\n",
    "f_theor = np.exp(alpha1*grid)\n",
    "(fig,(ax1,ax2)) = subplots(1,2,figsize=(14,5))\n",
    "ax1.plot(grid,f_theor,grid,f_fin); sns.despine(ax=ax1);\n",
    "ax2.plot(grid,np.log(np.abs((f_fin-f_theor)/f_theor))); sns.despine(ax=ax2);"
   ]
  },
  {
   "cell_type": "code",
   "execution_count": 0,
   "metadata": {},
   "outputs": [],
   "source": [
    "var_val = mod.solve_system({\"z\": 2.0},{\"x\": 1.1},output=True)"
   ]
  },
  {
   "cell_type": "code",
   "execution_count": 0,
   "metadata": {},
   "outputs": [],
   "source": [
    "mod_de2 = meteo.Model('models/model_diffeq2.json')"
   ]
  },
  {
   "cell_type": "code",
   "execution_count": 0,
   "metadata": {},
   "outputs": [],
   "source": [
    "pi = mod_de2.con_dict['pi']\n",
    "r = mod_de2.con_dict['r']\n",
    "gamma = mod_de2.con_dict['gamma']\n",
    "c = mod_de2.con_dict['c']\n",
    "qgrid = mod_de2.arg_info['q']['grid']\n",
    "\n",
    "Wmin = gamma*c*r**(gamma-1)\n",
    "Wmax = 20.0\n",
    "Wfunc = lambda W: r*W-pi-(gamma-1)*c*(W/(gamma*c))**(gamma/(gamma-1))\n",
    "Wbar = opt.brentq(Wfunc,Wmin,Wmax)\n",
    "print Wbar,Wfunc(Wbar)\n",
    "\n",
    "Wgrid = Wbar*qgrid\n",
    "Wpgrid = Wbar*np.ones_like(qgrid)\n",
    "xgrid = (Wbar/(gamma*c))**(1/(gamma-1))*np.ones_like(qgrid)\n",
    "\n",
    "(t_path,par_path,var_path) = mod_de2.homotopy_bde({\"tau\":0.0,\"g\":0.0},{\"tau\":0.15,\"g\":0.02},\n",
    "                                                  {\"Wbar\":Wbar,\"W\":[Wgrid,Wpgrid],\"x\":xgrid},\n",
    "                                                  solve=False,output=False,delt=0.2,max_step=1000,max_newton=10)\n",
    "\n",
    "parf_dict = mod_de2.array_to_dict(par_path[-1],mod_de2.par_info,mod_de2.par_sizes)\n",
    "varf_dict = mod_de2.array_to_dict(var_path[-1],mod_de2.var_info,mod_de2.var_sizes)"
   ]
  },
  {
   "cell_type": "code",
   "execution_count": 0,
   "metadata": {},
   "outputs": [],
   "source": [
    "print 'Wbar = {}'.format(Wbar)\n",
    "print 'Max err = {}'.format(np.max(np.abs(mod_de2.eval_system(parf_dict,varf_dict))))\n",
    "grid = mod_de2.arg_info['q']['grid']\n",
    "(W_fin,dW_fin,ddW_fin) = varf_dict['W']\n",
    "x_fin = varf_dict['x']\n",
    "(fig,(ax1,ax2)) = subplots(1,2,figsize=(14,5))\n",
    "ax1.plot(grid,dW_fin); sns.despine(ax=ax1);\n",
    "ax2.plot(grid,x_fin); sns.despine(ax=ax2);"
   ]
  },
  {
   "cell_type": "code",
   "execution_count": 0,
   "metadata": {},
   "outputs": [],
   "source": [
    "mod_de3 = meteo.Model('models/model_diffeq3.json')"
   ]
  },
  {
   "cell_type": "code",
   "execution_count": 0,
   "metadata": {},
   "outputs": [],
   "source": [
    "tau = 0.1\n",
    "g = 0.015\n",
    "pi = mod_de3.con_dict['pi']\n",
    "r = mod_de3.con_dict['r']\n",
    "gamma = mod_de3.con_dict['gamma']\n",
    "c = mod_de3.con_dict['c']\n",
    "nu = mod_de3.con_dict['nu']\n",
    "qgrid = mod_de3.arg_info['q']['grid']\n",
    "\n",
    "Wmin = 0.0\n",
    "Wmax = gamma*c*r**(gamma-1)\n",
    "Wfunc = lambda W: r*W-pi-(gamma-1)*c*(W/(gamma*c))**(gamma/(gamma-1))\n",
    "#Wbar = opt.brentq(Wfunc,Wmin,Wmax)\n",
    "Wbar = opt.fsolve(Wfunc,1.0)[0]\n",
    "xmax = (Wbar/(c*gamma))**(1/(gamma-1))\n",
    "print 'Wbar = {}, Werr = {}, xmax = {}'.format(Wbar,Wfunc(Wbar),xmax)\n",
    "print\n",
    "\n",
    "Wgrid = Wbar*qgrid\n",
    "Wpgrid = Wbar*np.ones_like(qgrid)\n",
    "xgrid = (Wbar/(gamma*c))**(1/(gamma-1))*np.ones_like(qgrid)\n",
    "\n",
    "(t_path,par_path,var_path) = mod_de3.homotopy_bde({\"tau\":0.0,\"g\":0.0},{\"tau\":tau,\"g\":g},\n",
    "                                                  {\"Wbar\":Wbar,\"W\":[Wgrid,Wpgrid],\"x\":xgrid},\n",
    "                                                  solve=False,output=True,delt=0.01,max_step=1000,max_newton=10)\n",
    "\n",
    "t_path_good = t_path[::2]\n",
    "par_path_good = par_path[::2]\n",
    "var_path_good = var_path[::2]"
   ]
  },
  {
   "cell_type": "code",
   "execution_count": 0,
   "metadata": {},
   "outputs": [],
   "source": [
    "def plot_index(idx=0,icut1=0,icut2=256):\n",
    "    parf_dict = mod_de3.array_to_dict(par_path_good[idx],mod_de3.par_info,mod_de3.par_sizes)\n",
    "    varf_dict = mod_de3.array_to_dict(var_path_good[idx],mod_de3.var_info,mod_de3.var_sizes)\n",
    "\n",
    "    tau = parf_dict['tau']\n",
    "    g = parf_dict['g']\n",
    "    \n",
    "    print 'Max err = {}'.format(np.max(np.abs(mod_de3.eval_system(parf_dict,varf_dict))))\n",
    "    print 'g = {}, tau = {}'.format(parf_dict['g'],parf_dict['tau'])\n",
    "\n",
    "    grid = mod_de3.arg_info['q']['grid']\n",
    "    (W_fin,dW_fin) = varf_dict['W']\n",
    "    x_fin = varf_dict['x']\n",
    "    \n",
    "    Ediff = (qgrid/(4*c))*dW_fin**2 - g*grid*dW_fin + (pi*grid-(r-g+tau*(1-grid))*W_fin)\n",
    "    W_lin = grid*(pi-c*g**2)/(r-g+tau*(1-grid))\n",
    "    dW_lin = (pi-c*g**2)/(r-g+tau*(1-grid))*(1+grid*tau/(r-g+tau*(1-grid)))\n",
    "    S_fin = W_fin/W_lin\n",
    "    print S_fin[1]\n",
    "\n",
    "    (fig,(ax1,ax2)) = subplots(1,2,figsize=(10,4))\n",
    "    ax1.plot(grid[icut1:icut2],S_fin[icut1:icut2]); ax1.set_ylim(1.0,1.8); sns.despine(ax=ax1);\n",
    "    ax2.plot(grid[icut1:icut2],x_fin[icut1:icut2]); ax2.set_ylim(0.0,0.07) sns.despine(ax=ax2);\n",
    "    \n",
    "interact(plot_index,idx=(0,len(t_path_good)-1),icut1=(0,256),icut2=(0,256));"
   ]
  },
  {
   "cell_type": "code",
   "execution_count": 0,
   "metadata": {},
   "outputs": [],
   "source": [
    "mod_eq = meteo.Model('models/frontier_equil.json')"
   ]
  },
  {
   "cell_type": "code",
   "execution_count": 0,
   "metadata": {},
   "outputs": [],
   "source": [
    "g = 0.02\n",
    "delta = mod_eq.con_dict['delta']\n",
    "gamma = mod_eq.con_dict['gamma']\n",
    "c = mod_eq.con_dict['c']\n",
    "d = mod_eq.con_dict['d']\n",
    "nu = mod_eq.con_dict['nu']\n",
    "qgrid = mod_eq.arg_info['q']['grid']\n",
    "\n",
    "Wmin = 0.0\n",
    "Wmax = gamma*c*delta**(gamma-1)\n",
    "Wfunc = lambda W: delta*W-1.0-(gamma-1)*c*(W/(gamma*c))**(gamma/(gamma-1))\n",
    "#Wbar = opt.brentq(Wfunc,Wmin,Wmax)\n",
    "Wbar = opt.fsolve(Wfunc,1.0)[0]\n",
    "xmax = (Wbar/(c*gamma))**(1/(gamma-1))\n",
    "print 'Wbar = {}, Werr = {}, xmax = {}'.format(Wbar,Wfunc(Wbar),xmax)\n",
    "print\n",
    "\n",
    "# initial values\n",
    "Wgrid = Wbar*qgrid\n",
    "Wpgrid = Wbar*np.ones_like(qgrid)\n",
    "Zgrid = Wbar*(nu/(nu+1))*(1-qgrid**(nu+1))\n",
    "Zpgrid = -Wbar*nu*qgrid**nu\n",
    "xgrid = (Wbar/(gamma*c))**(1/(gamma-1))*np.ones_like(qgrid)\n",
    "ygrid = (Zgrid/(gamma*d))**(1/(gamma-1))*np.ones_like(qgrid)\n",
    "\n",
    "(t_path_eq,par_path_eq,var_path_eq) = mod_eq.homotopy_bde({\"alpha\":0.0,\"g\":0.0},{\"alpha\":1.0,\"g\":g},\n",
    "                                                  {\"Wbar\":Wbar,\"W\":[Wgrid,Wpgrid],\"Z\":[Zgrid,Zpgrid],\"x\":xgrid,\"y\":ygrid},\n",
    "                                                  solve=True,output=True,delt=0.05,max_step=1000,max_newton=10)\n",
    "\n",
    "t_path_good_eq = t_path_eq[::2]\n",
    "par_path_good_eq = par_path_eq[::2]\n",
    "var_path_good_eq = var_path_eq[::2]"
   ]
  },
  {
   "cell_type": "code",
   "execution_count": 0,
   "metadata": {},
   "outputs": [],
   "source": [
    "def plot_index(idx=0):\n",
    "    parf_dict = mod_eq.array_to_dict(par_path_good_eq[idx],mod_eq.par_info,mod_eq.par_sizes)\n",
    "    varf_dict = mod_eq.array_to_dict(var_path_good_eq[idx],mod_eq.var_info,mod_eq.var_sizes)\n",
    "\n",
    "    print 'Max err = {}'.format(np.max(np.abs(mod_eq.eval_system(parf_dict,varf_dict))))\n",
    "\n",
    "    grid = mod_eq.arg_info['q']['grid']\n",
    "    (W_fin,dW_fin) = varf_dict['W']\n",
    "    x_fin = varf_dict['x']\n",
    "    y_fin = varf_dict['y']\n",
    "\n",
    "    (fig,(ax1,ax2)) = subplots(1,2,figsize=(10,4))\n",
    "    ax1.plot(grid,x_fin); sns.despine(ax=ax1);\n",
    "    ax2.plot(grid,y_fin); sns.despine(ax=ax2);\n",
    "\n",
    "interact(plot_index,idx=(0,len(t_path_good_eq)-1));"
   ]
  },
  {
   "cell_type": "code",
   "execution_count": 0,
   "metadata": {},
   "outputs": [],
   "source": [
    "mod_sp = meteo.Model('models/frontier_socplan.json')"
   ]
  },
  {
   "cell_type": "code",
   "execution_count": 0,
   "metadata": {},
   "outputs": [],
   "source": [
    "g = 0.02\n",
    "delta = mod_sp.con_dict['delta']\n",
    "gamma = mod_sp.con_dict['gamma']\n",
    "c = mod_sp.con_dict['c']\n",
    "d = mod_sp.con_dict['d']\n",
    "nu = mod_sp.con_dict['nu']\n",
    "qgrid = mod_sp.arg_info['q']['grid']\n",
    "\n",
    "Wmin = 0.0\n",
    "Wmax = gamma*c*delta**(gamma-1)\n",
    "Wfunc = lambda W: delta*W-1.0-(gamma-1)*c*(W/(gamma*c))**(gamma/(gamma-1))\n",
    "#Wbar = opt.brentq(Wfunc,Wmin,Wmax)\n",
    "Wbar = opt.fsolve(Wfunc,1.0)[0]\n",
    "xmax = (Wbar/(c*gamma))**(1/(gamma-1))\n",
    "print 'Wbar = {}, Werr = {}, xmax = {}'.format(Wbar,Wfunc(Wbar),xmax)\n",
    "print\n",
    "\n",
    "# initial values\n",
    "Wgrid = Wbar*qgrid\n",
    "Wpgrid = Wbar*np.ones_like(qgrid)\n",
    "Zgrid = Wbar*(nu/(nu+1))*(1-qgrid**(nu+1))\n",
    "Zpgrid = -Wbar*nu*qgrid**nu\n",
    "xgrid = (Wbar/(gamma*c))**(1/(gamma-1))*np.ones_like(qgrid)\n",
    "ygrid = ((Zgrid-(1-qgrid**nu)*Wgrid)/(gamma*d))**(1/(gamma-1))*np.ones_like(qgrid)\n",
    "\n",
    "(t_path_sp,par_path_sp,var_path_sp) = mod_sp.homotopy_bde({\"alpha\":0.0,\"g\":0.0},{\"alpha\":1.0,\"g\":g},\n",
    "                                                  {\"Wbar\":Wbar,\"W\":[Wgrid,Wpgrid],\"Z\":[Zgrid,Zpgrid],\"x\":xgrid,\"y\":ygrid},\n",
    "                                                  solve=True,output=True,delt=0.05,max_step=1000,max_newton=10)\n",
    "\n",
    "t_path_good_sp = t_path_sp[::2]\n",
    "par_path_good_sp = par_path_sp[::2]\n",
    "var_path_good_sp = var_path_sp[::2]"
   ]
  },
  {
   "cell_type": "code",
   "execution_count": 0,
   "metadata": {},
   "outputs": [],
   "source": [
    "def plot_index(idx=0):\n",
    "    parf_dict = mod_sp.array_to_dict(par_path_good_sp[idx],mod_sp.par_info,mod_sp.par_sizes)\n",
    "    varf_dict = mod_sp.array_to_dict(var_path_good_sp[idx],mod_sp.var_info,mod_sp.var_sizes)\n",
    "\n",
    "    print 'Max err = {}'.format(np.max(np.abs(mod_sp.eval_system(parf_dict,varf_dict))))\n",
    "\n",
    "    grid = mod_eq.arg_info['q']['grid']\n",
    "    (W_fin,dW_fin) = varf_dict['W']\n",
    "    x_fin = varf_dict['x']\n",
    "    y_fin = varf_dict['y']\n",
    "\n",
    "    (fig,(ax1,ax2)) = subplots(1,2,figsize=(10,4))\n",
    "    ax1.plot(grid,x_fin); sns.despine(ax=ax1);\n",
    "    ax2.plot(grid,y_fin); sns.despine(ax=ax2);\n",
    "\n",
    "interact(plot_index,idx=(0,len(t_path_good_sp)-1));"
   ]
  },
  {
   "cell_type": "code",
   "execution_count": 0,
   "metadata": {},
   "outputs": [],
   "source": [
    "# compare decentralized equilibrium and social planner's optimum\n",
    "\n",
    "grid = mod_eq.arg_info['q']['grid']\n",
    "\n",
    "parf_dict_eq = mod_eq.array_to_dict(par_path_good_eq[-1],mod_eq.par_info,mod_eq.par_sizes)\n",
    "varf_dict_eq = mod_eq.array_to_dict(var_path_good_eq[-1],mod_eq.var_info,mod_eq.var_sizes)\n",
    "\n",
    "parf_dict_sp = mod_sp.array_to_dict(par_path_good_sp[-1],mod_sp.par_info,mod_sp.par_sizes)\n",
    "varf_dict_sp = mod_sp.array_to_dict(var_path_good_sp[-1],mod_sp.var_info,mod_sp.var_sizes)\n",
    "\n",
    "x_eq = varf_dict_eq['x']\n",
    "y_eq = varf_dict_eq['y']\n",
    "\n",
    "x_sp = varf_dict_sp['x']\n",
    "y_sp = varf_dict_sp['y']\n",
    "\n",
    "(fig,(ax1,ax2)) = subplots(1,2,figsize=(10,4))\n",
    "ax1.plot(grid,x_eq,grid,x_sp); sns.despine(ax=ax1);\n",
    "ax2.plot(grid,y_eq,grid,y_sp); sns.despine(ax=ax2);"
   ]
  },
  {
   "cell_type": "code",
   "execution_count": 0,
   "metadata": {},
   "outputs": [],
   "source": [
    "mod_po = meteo.Model('models/frontier_privopt.json',constants={'x': x_sp,'y': y_sp})"
   ]
  },
  {
   "cell_type": "code",
   "execution_count": 0,
   "metadata": {},
   "outputs": [],
   "source": [
    "g = 0.02\n",
    "delta = mod_po.con_dict['delta']\n",
    "gamma = mod_po.con_dict['gamma']\n",
    "c = mod_po.con_dict['c']\n",
    "d = mod_po.con_dict['d']\n",
    "nu = mod_po.con_dict['nu']\n",
    "qgrid = mod_po.arg_info['q']['grid']\n",
    "\n",
    "Wmin = 0.0\n",
    "Wmax = gamma*c*delta**(gamma-1)\n",
    "Wfunc = lambda W: delta*W-1.0-(gamma-1)*c*(W/(gamma*c))**(gamma/(gamma-1))\n",
    "#Wbar = opt.brentq(Wfunc,Wmin,Wmax)\n",
    "Wbar = opt.fsolve(Wfunc,1.0)[0]\n",
    "x0 = (Wbar/(c*gamma))**(1/(gamma-1))\n",
    "print 'Wbar = {}, Werr = {}, xmax = {}'.format(Wbar,Wfunc(Wbar),xmax)\n",
    "print\n",
    "\n",
    "# initial values\n",
    "Wgrid = Wbar*qgrid\n",
    "Wpgrid = Wbar*np.ones_like(qgrid)\n",
    "Zgrid = Wbar*(nu/(nu+1))*(1-qgrid**(nu+1))\n",
    "Zpgrid = -Wbar*nu*qgrid**nu\n",
    "\n",
    "(t_path_po,par_path_po,var_path_po) = mod_po.homotopy_bde({\"alpha\":0.0,\"g\":0.0},{\"alpha\":1.0,\"g\":g},\n",
    "                                                  {\"Wbar\":Wbar,\"x0\":x0,\"W\":[Wgrid,Wpgrid],\"Z\":[Zgrid,Zpgrid]},\n",
    "                                                  solve=True,output=True,delt=0.025,max_step=1000,max_newton=10)\n",
    "\n",
    "t_path_good_po = t_path_po[::2]\n",
    "par_path_good_po = par_path_po[::2]\n",
    "var_path_good_po = var_path_po[::2]"
   ]
  },
  {
   "cell_type": "code",
   "execution_count": 0,
   "metadata": {},
   "outputs": [],
   "source": []
  }
 ],
 "metadata": {
  "kernelspec": {
   "display_name": "Python 3",
   "language": "python",
   "name": "python3"
  },
  "language_info": {
   "codemirror_mode": {
    "name": "ipython",
    "version": 3
   },
   "file_extension": ".py",
   "mimetype": "text/x-python",
   "name": "python",
   "nbconvert_exporter": "python",
   "pygments_lexer": "ipython3",
   "version": "3.6.3"
  }
 },
 "nbformat": 4,
 "nbformat_minor": 2
}