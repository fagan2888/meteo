{
 "metadata": {
  "name": "",
  "signature": "sha256:0e9aad18017a3b0b4dc86c9a3ee5d4de86649da21c574aad999337e848db82db"
 },
 "nbformat": 3,
 "nbformat_minor": 0,
 "worksheets": [
  {
   "cells": [
    {
     "cell_type": "code",
     "collapsed": false,
     "input": [
      "import meteo\n",
      "meteo.theano.config.optimizer = 'fast_compile'"
     ],
     "language": "python",
     "metadata": {},
     "outputs": [],
     "prompt_number": 3
    },
    {
     "cell_type": "code",
     "collapsed": false,
     "input": [
      "mod = meteo.Model('model.json')"
     ],
     "language": "python",
     "metadata": {},
     "outputs": [
      {
       "output_type": "stream",
       "stream": "stdout",
       "text": [
        "Compiling...\n"
       ]
      }
     ],
     "prompt_number": 4
    },
    {
     "cell_type": "code",
     "collapsed": false,
     "input": [
      "(t_path,par_path,var_path) = mod.homotopy_bde({\"z\": 2.0},{\"z\": 3.0},{\"x\": 1.0},plot=True)\n",
      "#(t_path,par_path,var_path) = mod.homotopy_bde({\"z\": 2.0},{\"z\": 3.0},{\"x\": 1.0},plot=True)"
     ],
     "language": "python",
     "metadata": {},
     "outputs": [
      {
       "metadata": {},
       "output_type": "display_data",
       "png": "[encoded data removed]",
       "text": [
        "<matplotlib.figure.Figure at 0x7f8d96a62ad0>"
       ]
      }
     ],
     "prompt_number": 5
    },
    {
     "cell_type": "code",
     "collapsed": false,
     "input": [
      "mod_de = meteo.Model('model_diffeq.json')"
     ],
     "language": "python",
     "metadata": {},
     "outputs": [
      {
       "output_type": "stream",
       "stream": "stdout",
       "text": [
        "Compiling...\n"
       ]
      },
      {
       "output_type": "stream",
       "stream": "stderr",
       "text": [
        "/usr/local/lib/python2.7/site-packages/theano/scan_module/scan_perform_ext.py:85: RuntimeWarning: numpy.ndarray size changed, may indicate binary incompatibility\n",
        "  from scan_perform.scan_perform import *\n"
       ]
      }
     ],
     "prompt_number": 11
    },
    {
     "cell_type": "code",
     "collapsed": false,
     "input": [
      "alpha0 = 1.0\n",
      "alpha1 = 2.0\n",
      "\n",
      "tgrid = mod_de.var_info['x']['grid']\n",
      "xgrid = np.exp(alpha0*tgrid)\n",
      "xpgrid = alpha0*np.exp(alpha0*tgrid)\n",
      "\n",
      "(t_path,par_path,var_path) = mod_de.homotopy_bde({\"alpha\":alpha0},{\"alpha\":alpha1},{\"x\":[xgrid,xpgrid]},delt=0.05)\n",
      "varf_dict = mod_de.array_to_dict(var_path[-1],mod_de.var_info,mod_de.var_sizes)"
     ],
     "language": "python",
     "metadata": {},
     "outputs": [],
     "prompt_number": 12
    },
    {
     "cell_type": "code",
     "collapsed": false,
     "input": [
      "grid = mod_de.var_info['x']['grid']\n",
      "(x_fin,dx_fin) = varf_dict['x']\n",
      "plot(grid,np.exp(alpha1*grid),grid,x_fin);"
     ],
     "language": "python",
     "metadata": {},
     "outputs": [
      {
       "metadata": {},
       "output_type": "display_data",
       "png": "[encoded data removed]",
       "text": [
        "<matplotlib.figure.Figure at 0x108f9ba50>"
       ]
      }
     ],
     "prompt_number": 13
    },
    {
     "cell_type": "code",
     "collapsed": false,
     "input": [],
     "language": "python",
     "metadata": {},
     "outputs": []
    }
   ],
   "metadata": {}
  }
 ]
}