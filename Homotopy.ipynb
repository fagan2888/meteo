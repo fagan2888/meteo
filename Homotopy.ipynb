{
 "cells": [
  {
   "cell_type": "code",
   "execution_count": 0,
   "metadata": {},
   "outputs": [],
   "source": [
    "import tensorflow as tf\n",
    "import meteo_path as me"
   ]
  },
  {
   "cell_type": "code",
   "execution_count": 0,
   "metadata": {},
   "outputs": [],
   "source": [
    "import altair as alt\n",
    "import pdvega"
   ]
  },
  {
   "cell_type": "code",
   "execution_count": 0,
   "metadata": {},
   "outputs": [],
   "source": [
    "z = tf.Variable([0.0, 0.0], dtype=tf.float32, name='z')\n",
    "eps = tf.Variable([0.01, 0.01], dtype=tf.float32, name='eps')"
   ]
  },
  {
   "cell_type": "code",
   "execution_count": 0,
   "metadata": {},
   "outputs": [],
   "source": [
    "a = tf.Variable([1.0, 2.0], dtype=tf.float32, name='a')\n",
    "b = tf.Variable([2.0, 3.0], dtype=tf.float32, name='b')"
   ]
  },
  {
   "cell_type": "code",
   "execution_count": 0,
   "metadata": {},
   "outputs": [],
   "source": [
    "def make_model():\n",
    "    eqr = me.rename(a**2-1+z*(7-5*a)-b**2, 'real')\n",
    "    eqi = me.rename(b*(2*a-5*z)-eps, 'imag')\n",
    "    return [eqr, eqi]"
   ]
  },
  {
   "cell_type": "code",
   "execution_count": 0,
   "metadata": {},
   "outputs": [],
   "source": [
    "mod = me.Model([z, eps], [a, b], make_model)"
   ]
  },
  {
   "cell_type": "code",
   "execution_count": 0,
   "metadata": {},
   "outputs": [],
   "source": [
    "mod.solve_system(output=True)"
   ]
  },
  {
   "cell_type": "code",
   "execution_count": 0,
   "metadata": {},
   "outputs": [],
   "source": [
    "z0, eps0 = [0.0, 0.0], [0.001, 0.001]\n",
    "z1, eps1 = [0.1, 0.1], [0.001, 0.001]\n",
    "z.assign(z0)\n",
    "eps.assign(eps0)"
   ]
  },
  {
   "cell_type": "code",
   "execution_count": 0,
   "metadata": {},
   "outputs": [],
   "source": [
    "%lprun -f mod.homotopy_path mod.homotopy_path([z1, eps1], delt=0.1, solve=True, output=True)"
   ]
  },
  {
   "cell_type": "code",
   "execution_count": 0,
   "metadata": {},
   "outputs": [],
   "source": [
    "np.r_[np.arange(5), 0]"
   ]
  },
  {
   "cell_type": "code",
   "execution_count": 0,
   "metadata": {},
   "outputs": [],
   "source": []
  }
 ],
 "metadata": {
  "kernelspec": {
   "display_name": "Python 3.7",
   "language": "python",
   "name": "python3.7"
  },
  "language_info": {
   "codemirror_mode": {
    "name": "ipython",
    "version": 3
   },
   "file_extension": ".py",
   "mimetype": "text/x-python",
   "name": "python",
   "nbconvert_exporter": "python",
   "pygments_lexer": "ipython3",
   "version": "3.7.4"
  }
 },
 "nbformat": 4,
 "nbformat_minor": 4
}