{
 "cells": [
  {
   "cell_type": "code",
   "execution_count": 0,
   "metadata": {},
   "outputs": [],
   "source": [
    "import tensorflow as tf\n",
    "import meteo_path as me"
   ]
  },
  {
   "cell_type": "code",
   "execution_count": 0,
   "metadata": {},
   "outputs": [],
   "source": [
    "import altair as alt\n",
    "import pdvega"
   ]
  },
  {
   "cell_type": "markdown",
   "metadata": {},
   "source": [
    "# Real Solutions\n",
    "\n",
    "$$x^2 - 1 + z(7-\\alpha x)$$"
   ]
  },
  {
   "cell_type": "code",
   "execution_count": 0,
   "metadata": {},
   "outputs": [],
   "source": [
    "mod = tm.Model({\n",
    "    'constants': {\n",
    "        'alpha': 5.0\n",
    "    },\n",
    "    'parameters': {\n",
    "        'z': 1\n",
    "    },\n",
    "    'variables': {\n",
    "        'x': 1\n",
    "    },\n",
    "    'equations': {\n",
    "        'eq1': 'x**2-1+z*(7-alpha*x)'\n",
    "    }\n",
    "})"
   ]
  },
  {
   "cell_type": "code",
   "execution_count": 0,
   "metadata": {},
   "outputs": [],
   "source": [
    "pars = {'z': 0.0}\n",
    "var0 = {'x': 5.0}\n",
    "with sess.as_default():\n",
    "    var1 = mod.solve_system(pars, var0, output=True)\n",
    "    ret = mod.eval_system(pars, var1)\n",
    "    print(var1)\n",
    "    print(ret)"
   ]
  },
  {
   "cell_type": "code",
   "execution_count": 0,
   "metadata": {
    "scrolled": true
   },
   "outputs": [],
   "source": [
    "par0 = {'z': 0.0}\n",
    "par1 = {'z': 1.0}\n",
    "var0 = {'x': 5.0}\n",
    "with sess.as_default():\n",
    "    (t_path, par_path, var_path) = mod.homotopy_bde(par0, par1, var0,\n",
    "                                                    solve=True, output=True)"
   ]
  },
  {
   "cell_type": "code",
   "execution_count": 0,
   "metadata": {},
   "outputs": [],
   "source": [
    "pd.DataFrame({\n",
    "    'param': par_path[:,0],\n",
    "    'eqvar': var_path[:,0]\n",
    "}).vgplot.scatter('param', 'eqvar')"
   ]
  },
  {
   "cell_type": "markdown",
   "metadata": {},
   "source": [
    "# Complex Solutions\n",
    "\n",
    "Real (with ifuzz = $\\varepsilon$)\n",
    "$$x^2 - 1 + z(7-5x) = \\varepsilon i$$\n",
    "\n",
    "Complex\n",
    "$$a^2 - 1 + z(7-5a) - b^2 = 0$$\n",
    "$$b(2a-5z) = \\varepsilon$$"
   ]
  },
  {
   "cell_type": "code",
   "execution_count": 0,
   "metadata": {},
   "outputs": [],
   "source": [
    "modc = tm.Model({\n",
    "    'parameters': {\n",
    "        'z': 1,\n",
    "        'eps': 1\n",
    "    },\n",
    "    'variables': {\n",
    "        'a': 1,\n",
    "        'b': 1\n",
    "    },\n",
    "    'equations': {\n",
    "        'eqr': 'a**2-1+z*(7-5*a)-b**2',\n",
    "        'eqc': 'b*(2*a-5*z)-eps'\n",
    "    }\n",
    "})"
   ]
  },
  {
   "cell_type": "code",
   "execution_count": 0,
   "metadata": {},
   "outputs": [],
   "source": [
    "pars = {'z': 0.0, 'eps': 0.0}\n",
    "var0 = {'a': 1.1, 'b': 1.1}\n",
    "with sess.as_default():\n",
    "    sess.run(tf.global_variables_initializer())\n",
    "    var1 = modc.solve_system(pars, var0, output=True)\n",
    "    ret = modc.eval_system(pars, var1)"
   ]
  },
  {
   "cell_type": "code",
   "execution_count": 0,
   "metadata": {
    "scrolled": true
   },
   "outputs": [],
   "source": [
    "par0p = {'z': 0.0, 'eps': 0.001}\n",
    "par1p = {'z': 1.0, 'eps': 0.001}\n",
    "var0p = {'a': 1.0, 'b': 0.001}\n",
    "par0n = {'z': 0.0, 'eps': 0.001}\n",
    "par1n = {'z': 1.0, 'eps': 0.001}\n",
    "var0n = {'a': -1.0, 'b': 0.001}\n",
    "with sess.as_default():\n",
    "    (t_path1, par_path1, var_path1) = modc.homotopy_bde(par0p, par1p, var0p)\n",
    "    (t_path2, par_path2, var_path2) = modc.homotopy_bde(par0n, par1n, var0n)"
   ]
  },
  {
   "cell_type": "code",
   "execution_count": 0,
   "metadata": {},
   "outputs": [],
   "source": [
    "(fig, (ax1, ax2)) = plt.subplots(ncols=2, figsize=(14, 6))\n",
    "ax1.plot(var_path1[2::2,0], par_path1[2::2,0], c=cmap[0]);\n",
    "ax1.plot(var_path2[2::2,0], par_path2[2::2,0], c=cmap[1]);\n",
    "ax2.plot(var_path1[2::2,1], par_path1[2::2,0], c=cmap[0]);\n",
    "ax2.plot(var_path2[2::2,1], par_path2[2::2,0], c=cmap[1]);"
   ]
  },
  {
   "cell_type": "code",
   "execution_count": 0,
   "metadata": {},
   "outputs": [],
   "source": [
    "df1 = pd.DataFrame({\n",
    "    'par': par_path1[2::2,0],\n",
    "    'var1': var_path1[2::2,0],\n",
    "    'var2': var_path1[2::2,1]\n",
    "})\n",
    "df2 = pd.DataFrame({\n",
    "    'par': par_path2[2::2,0],\n",
    "    'var1': var_path2[2::2,0],\n",
    "    'var2': var_path2[2::2,1]\n",
    "})"
   ]
  },
  {
   "cell_type": "code",
   "execution_count": 0,
   "metadata": {},
   "outputs": [],
   "source": [
    "alt.vconcat(\n",
    "    df1.vgplot('par', 'var1') + df2.vgplot('par', 'var1'),\n",
    "    df1.vgplot('par', 'var2') + df2.vgplot('par', 'var2')\n",
    ")"
   ]
  },
  {
   "cell_type": "markdown",
   "metadata": {},
   "source": [
    "## Functional Approach"
   ]
  },
  {
   "cell_type": "code",
   "execution_count": 0,
   "metadata": {},
   "outputs": [],
   "source": [
    "z = tf.Variable([1.0], name='z')\n",
    "eps = tf.Variable([1.0], name='eps')"
   ]
  },
  {
   "cell_type": "code",
   "execution_count": 0,
   "metadata": {},
   "outputs": [],
   "source": [
    "a = tf.Variable([1.0], name='a')\n",
    "b = tf.Variable([1.0], name='b')"
   ]
  },
  {
   "cell_type": "code",
   "execution_count": 0,
   "metadata": {},
   "outputs": [],
   "source": [
    "eqr = me.rename(a**2-1+z*(7-5*a)-b**2, 'real')\n",
    "eqi = me.rename(b*(2*a-5*z)-eps, 'imag')"
   ]
  },
  {
   "cell_type": "code",
   "execution_count": 0,
   "metadata": {},
   "outputs": [],
   "source": [
    "mod = me.Model([z, eps], [a, b], [eqr, eqi])"
   ]
  },
  {
   "cell_type": "code",
   "execution_count": 0,
   "metadata": {},
   "outputs": [],
   "source": [
    "with tf.Session().as_default():\n",
    "    tf.global_variables_initializer().run()\n",
    "    mod.solve_system(output=True)\n",
    "    ret = mod.eval_system()\n",
    "me.summary(ret)"
   ]
  },
  {
   "cell_type": "code",
   "execution_count": 0,
   "metadata": {},
   "outputs": [],
   "source": []
  }
 ],
 "metadata": {
  "kernelspec": {
   "display_name": "Python 3.7",
   "language": "python",
   "name": "python37"
  },
  "language_info": {
   "codemirror_mode": {
    "name": "ipython",
    "version": 3
   },
   "file_extension": ".py",
   "mimetype": "text/x-python",
   "name": "python",
   "nbconvert_exporter": "python",
   "pygments_lexer": "ipython3",
   "version": "3.7.4"
  }
 },
 "nbformat": 4,
 "nbformat_minor": 4
}