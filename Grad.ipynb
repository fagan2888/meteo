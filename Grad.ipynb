{
 "cells": [
  {
   "cell_type": "code",
   "execution_count": 0,
   "metadata": {},
   "outputs": [],
   "source": [
    "import numpy as np\n",
    "import tensorflow as tf\n",
    "import meteo_grad as mg"
   ]
  },
  {
   "cell_type": "code",
   "execution_count": 0,
   "metadata": {},
   "outputs": [],
   "source": [
    "plotter(['clean'])\n",
    "%matplotlib inline\n",
    "import matplotlib.pyplot as plt\n",
    "cmap = plt.rcParams['axes.prop_cycle'].by_key()['color']"
   ]
  },
  {
   "cell_type": "code",
   "execution_count": 0,
   "metadata": {},
   "outputs": [],
   "source": [
    "sess = tf.InteractiveSession()"
   ]
  },
  {
   "cell_type": "code",
   "execution_count": 0,
   "metadata": {},
   "outputs": [],
   "source": [
    "N = 100\n",
    "alpha = tf.Variable(np.linspace(1.0, 2.0, N), name='alpha')\n",
    "x = tf.Variable(np.linspace(1.0, 4.0, N), name='x')\n",
    "eq = x**2-alpha\n",
    "mod = mg.Model([alpha], [x], [eq], learning_rate=0.01)"
   ]
  },
  {
   "cell_type": "code",
   "execution_count": 0,
   "metadata": {},
   "outputs": [],
   "source": [
    "sess.run(tf.global_variables_initializer())\n",
    "i = mod.solve_system()\n",
    "print(f'i = {i}')\n",
    "print(f'error = {mod.error.eval()}')\n",
    "print(f'x = {x.eval()}')\n",
    "print(f'eq = {eq.eval()}')"
   ]
  },
  {
   "cell_type": "code",
   "execution_count": 0,
   "metadata": {},
   "outputs": [],
   "source": [
    "sess.run(tf.global_variables_initializer())\n",
    "alpha.assign(np.zeros(N)).eval()\n",
    "mod.homotopy_elev({alpha: np.ones(N)}, max_newton=5000, output=True)\n",
    "print(f'alpha = {alpha.eval()}')\n",
    "print(f'x = {x.eval()}')\n",
    "print(f'eq = {eq.eval()}')"
   ]
  },
  {
   "cell_type": "code",
   "execution_count": 0,
   "metadata": {},
   "outputs": [],
   "source": [
    "alpha.dtype"
   ]
  },
  {
   "cell_type": "code",
   "execution_count": 0,
   "metadata": {},
   "outputs": [],
   "source": []
  }
 ],
 "metadata": {
  "kernelspec": {
   "display_name": "Python 3",
   "language": "python",
   "name": "python3"
  },
  "language_info": {
   "codemirror_mode": {
    "name": "ipython",
    "version": 3
   },
   "file_extension": ".py",
   "mimetype": "text/x-python",
   "name": "python",
   "nbconvert_exporter": "python",
   "pygments_lexer": "ipython3",
   "version": "3.6.3"
  }
 },
 "nbformat": 4,
 "nbformat_minor": 2
}