{
 "cells": [
  {
   "cell_type": "code",
   "execution_count": 0,
   "metadata": {},
   "outputs": [],
   "source": [
    "import numpy as np\n",
    "import tensorflow as tf\n",
    "import meteo_one as mo"
   ]
  },
  {
   "cell_type": "code",
   "execution_count": 0,
   "metadata": {},
   "outputs": [],
   "source": [
    "plotter(['clean'])\n",
    "%matplotlib inline\n",
    "import matplotlib.pyplot as plt\n",
    "cmap = plt.rcParams['axes.prop_cycle'].by_key()['color']"
   ]
  },
  {
   "cell_type": "code",
   "execution_count": 0,
   "metadata": {},
   "outputs": [],
   "source": [
    "sess = tf.InteractiveSession()"
   ]
  },
  {
   "cell_type": "code",
   "execution_count": 0,
   "metadata": {},
   "outputs": [],
   "source": [
    "N = 100\n",
    "alpha = tf.Variable(np.linspace(3.0, 4.0, N), name='alpha')\n",
    "x = tf.Variable(np.linspace(1.0, 2.0, N), name='x')\n",
    "eq = tf.identity(x**2-1+alpha*(7-5*x), name='eq')\n",
    "mod = mo.Model([alpha], [x], [eq])"
   ]
  },
  {
   "cell_type": "code",
   "execution_count": 0,
   "metadata": {},
   "outputs": [],
   "source": [
    "pars = {alpha: np.linspace(0.0, 2.0, N)}\n",
    "var0 = {x: np.linspace(2.0, 3.0, N)}\n",
    "var1 = mod.solve_system(pars, var0, max_rep=50)\n",
    "mo.resolve(mod.eval_system(pars, var1))"
   ]
  },
  {
   "cell_type": "code",
   "execution_count": 0,
   "metadata": {},
   "outputs": [],
   "source": [
    "par0 = {alpha: np.array([0.0, 1.0])}\n",
    "par1 = {alpha: np.array([1.0, 2.0])}\n",
    "var0 = {x: np.array([2.0, 3.0])}\n",
    "(t_path, par_path, var_path) = mod.homotopy_bde(par0, par1, var0, max_newton=50, eqn_tol=1e-8, solve=True, output=True)"
   ]
  },
  {
   "cell_type": "code",
   "execution_count": 0,
   "metadata": {},
   "outputs": [],
   "source": [
    "t_vals = t_path\n",
    "pp_vals = np.vstack([mo.resolve(pp)['alpha'] for pp in par_path])\n",
    "vp_vals = np.vstack([mo.resolve(vp)['x'] for vp in var_path])"
   ]
  },
  {
   "cell_type": "code",
   "execution_count": 0,
   "metadata": {},
   "outputs": [],
   "source": [
    "fig, (ax1, ax2) = plt.subplots(ncols=2, figsize=(12, 5));\n",
    "ax1.plot(pp_vals[:,0], vp_vals[:,0]);\n",
    "ax2.plot(pp_vals[:,1], vp_vals[:,1]);"
   ]
  },
  {
   "cell_type": "markdown",
   "metadata": {},
   "source": [
    "# All Symbolic"
   ]
  },
  {
   "cell_type": "code",
   "execution_count": 0,
   "metadata": {},
   "outputs": [],
   "source": [
    "sess.run(tf.global_variables_initializer())\n",
    "mod.solve_system_symb(output=True)\n",
    "print(x.eval())\n",
    "print(eq.eval())"
   ]
  },
  {
   "cell_type": "code",
   "execution_count": 0,
   "metadata": {},
   "outputs": [],
   "source": [
    "mo.row_dets(np.random.rand(4, 5))"
   ]
  },
  {
   "cell_type": "code",
   "execution_count": 0,
   "metadata": {},
   "outputs": [],
   "source": [
    "g = tf.gradients(tf.slice(eq, [0], [1]), x)[0]"
   ]
  },
  {
   "cell_type": "code",
   "execution_count": 0,
   "metadata": {},
   "outputs": [],
   "source": [
    "tf.global_variables_initializer().run()\n",
    "g.eval()"
   ]
  },
  {
   "cell_type": "code",
   "execution_count": 0,
   "metadata": {},
   "outputs": [],
   "source": []
  }
 ],
 "metadata": {
  "kernelspec": {
   "display_name": "Python 3",
   "language": "python",
   "name": "python3"
  },
  "language_info": {
   "codemirror_mode": {
    "name": "ipython",
    "version": 3
   },
   "file_extension": ".py",
   "mimetype": "text/x-python",
   "name": "python",
   "nbconvert_exporter": "python",
   "pygments_lexer": "ipython3",
   "version": "3.6.2"
  }
 },
 "nbformat": 4,
 "nbformat_minor": 2
}