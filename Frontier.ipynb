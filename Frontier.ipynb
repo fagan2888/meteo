{
 "metadata": {
  "name": "",
  "signature": "sha256:0eadfdbab27f535d8afef5e8653349efb74a0e871b268ec0b21bada9a9e4fd82"
 },
 "nbformat": 3,
 "nbformat_minor": 0,
 "worksheets": [
  {
   "cells": [
    {
     "cell_type": "code",
     "collapsed": false,
     "input": [
      "import meteo\n",
      "import scipy.optimize as opt\n",
      "from IPython.html.widgets import interact\n",
      "import seaborn as sns\n",
      "sns.set_style('white')"
     ],
     "language": "python",
     "metadata": {},
     "outputs": [],
     "prompt_number": 5
    },
    {
     "cell_type": "code",
     "collapsed": false,
     "input": [
      "N = 128\n",
      "\n",
      "g = 0.02\n",
      "delta = 0.05\n",
      "gamma = 2.0\n",
      "c = 500.0\n",
      "d = 300.0\n",
      "nu = 1.0\n",
      "\n",
      "Wmin = 0.0\n",
      "Wmax = gamma*c*delta**(gamma-1)\n",
      "Wfunc = lambda W: delta*W-1.0-(gamma-1)*c*(W/(gamma*c))**(gamma/(gamma-1))\n",
      "#Wbar = opt.brentq(Wfunc,Wmin,Wmax)\n",
      "Wbar = opt.fsolve(Wfunc,1.0)[0]\n",
      "x0 = (Wbar/(c*gamma))**(1/(gamma-1))\n",
      "print 'Wbar = {}, Werr = {}, x0 = {}'.format(Wbar,Wfunc(Wbar),x0)\n",
      "\n",
      "qgrid = np.linspace(0.0,1.0,N)\n",
      "Wgrid = Wbar*qgrid\n",
      "Wpgrid = Wbar*np.ones_like(qgrid)\n",
      "Zgrid = Wbar*(nu/(nu+1))*(1-qgrid**(nu+1))\n",
      "Zpgrid = -Wbar*nu*qgrid**nu\n",
      "xgrid = (Wbar/(gamma*c))**(1/(gamma-1))*np.ones_like(qgrid)\n",
      "ygrid = (Zgrid/(gamma*d))**(1/(gamma-1))*np.ones_like(qgrid)\n",
      "\n",
      "constants = {'g': g,'delta': delta,'gamma': gamma,'c': c,'d': d,'nu': nu,'Wbar':Wbar,'x0':x0}"
     ],
     "language": "python",
     "metadata": {},
     "outputs": [
      {
       "output_type": "stream",
       "stream": "stdout",
       "text": [
        "Wbar = 27.639320225, Werr = -2.77555756156e-15, x0 = 0.027639320225\n"
       ]
      }
     ],
     "prompt_number": 6
    },
    {
     "cell_type": "code",
     "collapsed": false,
     "input": [
      "mod_eq = meteo.Model('models/frontier_equil.json',constants=constants)"
     ],
     "language": "python",
     "metadata": {},
     "outputs": [
      {
       "output_type": "stream",
       "stream": "stdout",
       "text": [
        "Compiling...\n"
       ]
      }
     ],
     "prompt_number": 26
    },
    {
     "cell_type": "code",
     "collapsed": false,
     "input": [
      "(t_path_eq,par_path_eq,var_path_eq) = mod_eq.homotopy_bde({\"alpha\":0.0,\"g\":0.0},{\"alpha\":1.0,\"g\":g},\n",
      "                                                  {\"Wbar\":Wbar,\"W\":[Wgrid,Wpgrid],\"Z\":[Zgrid,Zpgrid],\"x\":xgrid,\"y\":ygrid},\n",
      "                                                  solve=True,output=True,delt=0.05,max_step=1000,max_newton=10)\n",
      "\n",
      "t_path_good_eq = t_path_eq[::2]\n",
      "par_path_good_eq = par_path_eq[::2]\n",
      "var_path_good_eq = var_path_eq[::2]\n",
      "\n",
      "parf_dict_eq = mod_eq.array_to_dict(par_path_good_eq[-1],mod_eq.par_info,mod_eq.par_sizes)\n",
      "varf_dict_eq = mod_eq.array_to_dict(var_path_good_eq[-1],mod_eq.var_info,mod_eq.var_sizes)"
     ],
     "language": "python",
     "metadata": {},
     "outputs": [
      {
       "output_type": "stream",
       "stream": "stdout",
       "text": [
        "Equation Solved (0)\n",
        "\n",
        "t = 0.0\n",
        "Equation error = 3.5527136788e-15\n",
        "\n",
        "Iteration = 0"
       ]
      },
      {
       "output_type": "stream",
       "stream": "stdout",
       "text": [
        "\n",
        "Step predict = 0.0466610232312\n",
        "Correction steps = 1\n",
        "t = 0.0469155449015\n",
        "Equation error = 3.58046925442e-15\n",
        "\n",
        "Iteration = 5"
       ]
      },
      {
       "output_type": "stream",
       "stream": "stdout",
       "text": [
        "\n",
        "Step predict = 0.0417244433378\n",
        "Correction steps = 1\n",
        "t = 0.265533508345\n",
        "Equation error = 3.5527136788e-15\n",
        "\n",
        "Iteration = 10"
       ]
      },
      {
       "output_type": "stream",
       "stream": "stdout",
       "text": [
        "\n",
        "Step predict = 0.0371060245746\n",
        "Correction steps = 1\n",
        "t = 0.459294736474\n",
        "Equation error = 3.5527136788e-15\n",
        "\n",
        "Iteration = 15"
       ]
      },
      {
       "output_type": "stream",
       "stream": "stdout",
       "text": [
        "\n",
        "Step predict = 0.03293886132\n",
        "Correction steps = 1\n",
        "t = 0.630808611258\n",
        "Equation error = 4.66640615038e-15\n",
        "\n",
        "Iteration = 20"
       ]
      },
      {
       "output_type": "stream",
       "stream": "stdout",
       "text": [
        "\n",
        "Step predict = 0.0292612086571\n",
        "Correction steps = 1\n",
        "t = 0.782724936279\n",
        "Equation error = 5.97126514901e-14\n",
        "\n",
        "Iteration = 25"
       ]
      },
      {
       "output_type": "stream",
       "stream": "stdout",
       "text": [
        "\n",
        "Step predict = 0.0260480061142\n",
        "Correction steps = 2\n",
        "t = 0.917494723009\n",
        "Equation error = 7.1054273576e-15\n",
        "\n",
        "Done at 29!"
       ]
      },
      {
       "output_type": "stream",
       "stream": "stdout",
       "text": [
        "\n",
        "t = 1.0\n",
        "Equation error = 7.1054273576e-15\n"
       ]
      }
     ],
     "prompt_number": 27
    },
    {
     "cell_type": "code",
     "collapsed": false,
     "input": [
      "mod_sp = meteo.Model('models/frontier_socplan.json',constants=constants)"
     ],
     "language": "python",
     "metadata": {},
     "outputs": [
      {
       "output_type": "stream",
       "stream": "stdout",
       "text": [
        "Compiling...\n"
       ]
      }
     ],
     "prompt_number": 28
    },
    {
     "cell_type": "code",
     "collapsed": false,
     "input": [
      "(t_path_sp,par_path_sp,var_path_sp) = mod_sp.homotopy_bde({\"alpha\":0.0,\"g\":0.0},{\"alpha\":1.0,\"g\":g},\n",
      "                                                  {\"Wbar\":Wbar,\"W\":[Wgrid,Wpgrid],\"Z\":[Zgrid,Zpgrid],\"x\":xgrid,\"y\":ygrid},\n",
      "                                                  solve=True,output=True,delt=0.05,max_step=1000,max_newton=10)\n",
      "\n",
      "t_path_good_sp = t_path_sp[::2]\n",
      "par_path_good_sp = par_path_sp[::2]\n",
      "var_path_good_sp = var_path_sp[::2]\n",
      "\n",
      "parf_dict_sp = mod_sp.array_to_dict(par_path_good_sp[-1],mod_sp.par_info,mod_sp.par_sizes)\n",
      "varf_dict_sp = mod_sp.array_to_dict(var_path_good_sp[-1],mod_sp.var_info,mod_sp.var_sizes)"
     ],
     "language": "python",
     "metadata": {},
     "outputs": [
      {
       "output_type": "stream",
       "stream": "stdout",
       "text": [
        "Equation Solved (0)\n",
        "\n",
        "t = 0.0\n",
        "Equation error = 3.77475828373e-15\n",
        "\n",
        "Iteration = 0"
       ]
      },
      {
       "output_type": "stream",
       "stream": "stdout",
       "text": [
        "\n",
        "Step predict = 0.05\n",
        "Correction steps = 1\n",
        "t = 0.0508706907783\n",
        "Equation error = 1.31292546279e-14\n",
        "\n",
        "Iteration = 5"
       ]
      },
      {
       "output_type": "stream",
       "stream": "stdout",
       "text": [
        "\n",
        "Step predict = 0.05\n",
        "Correction steps = 1\n",
        "t = 0.303896935631\n",
        "Equation error = 5.78703751586e-15\n",
        "\n",
        "Iteration = 10"
       ]
      },
      {
       "output_type": "stream",
       "stream": "stdout",
       "text": [
        "\n",
        "Step predict = 0.05\n",
        "Correction steps = 1\n",
        "t = 0.555189803335\n",
        "Equation error = 3.7331249203e-15\n",
        "\n",
        "Iteration = 15"
       ]
      },
      {
       "output_type": "stream",
       "stream": "stdout",
       "text": [
        "\n",
        "Step predict = 0.05\n",
        "Correction steps = 1\n",
        "t = 0.80485934775\n",
        "Equation error = 4.33819646872e-14\n",
        "\n",
        "Iteration = 20"
       ]
      },
      {
       "output_type": "stream",
       "stream": "stdout",
       "text": [
        "\n",
        "Step predict = 0.000769910087629\n",
        "Correction steps = 0\n",
        "t = 1.0\n",
        "Equation error = 2.69645417106e-14\n",
        "\n",
        "Done at 20!\n",
        "t = 1.0\n",
        "Equation error = 2.69645417106e-14\n"
       ]
      }
     ],
     "prompt_number": 29
    },
    {
     "cell_type": "code",
     "collapsed": false,
     "input": [
      "# compare decentralized equilibrium and social planner's optimum\n",
      "x_eq = varf_dict_eq['x']\n",
      "y_eq = varf_dict_eq['y']\n",
      "\n",
      "x_sp = varf_dict_sp['x']\n",
      "y_sp = varf_dict_sp['y']\n",
      "\n",
      "(fig,(ax1,ax2)) = subplots(1,2,figsize=(10,4))\n",
      "ax1.plot(qgrid,x_eq,grid,x_sp); sns.despine(ax=ax1);\n",
      "ax2.plot(qgrid,y_eq,grid,y_sp); sns.despine(ax=ax2);"
     ],
     "language": "python",
     "metadata": {},
     "outputs": [
      {
       "metadata": {},
       "output_type": "display_data",
       "png": "[encoded data removed]",
       "text": [
        "<matplotlib.figure.Figure at 0x7febf327c610>"
       ]
      }
     ],
     "prompt_number": 30
    },
    {
     "cell_type": "code",
     "collapsed": false,
     "input": [
      "mod_po = meteo.Model('models/frontier_privopt.json',constants=meteo.merge(constants,{'x': x_sp,'y': y_sp}))"
     ],
     "language": "python",
     "metadata": {},
     "outputs": [
      {
       "output_type": "stream",
       "stream": "stdout",
       "text": [
        "Compiling...\n"
       ]
      }
     ],
     "prompt_number": 36
    },
    {
     "cell_type": "code",
     "collapsed": false,
     "input": [
      "(t_path_po,par_path_po,var_path_po) = mod_po.homotopy_bde({\"alpha\":0.0,\"g\":0.0},{\"alpha\":1.0,\"g\":g},\n",
      "                                                  {\"Wbar\":Wbar,\"x0\":x0,\"W\":[Wgrid,Wpgrid],\"Z\":[Zgrid,Zpgrid]},\n",
      "                                                  solve=True,output=True,delt=0.025,max_step=1000,max_newton=10)\n",
      "\n",
      "t_path_good_po = t_path_po[::2]\n",
      "par_path_good_po = par_path_po[::2]\n",
      "var_path_good_po = var_path_po[::2]\n",
      "\n",
      "parf_dict_po = mod_po.array_to_dict(par_path_good_po[-1],mod_po.par_info,mod_po.par_sizes)\n",
      "varf_dict_po = mod_po.array_to_dict(var_path_good_po[-1],mod_po.var_info,mod_po.var_sizes)"
     ],
     "language": "python",
     "metadata": {},
     "outputs": [
      {
       "output_type": "stream",
       "stream": "stdout",
       "text": [
        "Equation Solved (0)\n",
        "\n",
        "t = 0.0\n",
        "Equation error = 2.94209101526e-15\n",
        "\n",
        "Iteration = 0"
       ]
      },
      {
       "output_type": "stream",
       "stream": "stdout",
       "text": [
        "\n",
        "Step predict = 0.025\n",
        "Correction steps = 1\n",
        "t = 0.0249553377758\n",
        "Equation error = 2.99760216649e-15\n",
        "\n",
        "Iteration = 5"
       ]
      },
      {
       "output_type": "stream",
       "stream": "stdout",
       "text": [
        "\n",
        "Step predict = 0.025\n",
        "Correction steps = 1\n",
        "t = 0.149608151243\n",
        "Equation error = 2.88657986403e-15\n",
        "\n",
        "Iteration = 10"
       ]
      },
      {
       "output_type": "stream",
       "stream": "stdout",
       "text": [
        "\n",
        "Step predict = 0.025\n",
        "Correction steps = 1\n",
        "t = 0.274037883919\n",
        "Equation error = 3.27515792264e-15\n",
        "\n",
        "Iteration = 15"
       ]
      },
      {
       "output_type": "stream",
       "stream": "stdout",
       "text": [
        "\n",
        "Step predict = 0.0234096795331\n",
        "Correction steps = 1\n",
        "t = 0.395343944613\n",
        "Equation error = 3.33066907388e-15\n",
        "\n",
        "Iteration = 20"
       ]
      },
      {
       "output_type": "stream",
       "stream": "stdout",
       "text": [
        "\n",
        "Step predict = 0.0206893442257\n",
        "Correction steps = 1\n",
        "t = 0.503253464647\n",
        "Equation error = 2.88657986403e-15\n",
        "\n",
        "Iteration = 25"
       ]
      },
      {
       "output_type": "stream",
       "stream": "stdout",
       "text": [
        "\n",
        "Step predict = 0.0184075124119\n",
        "Correction steps = 1\n",
        "t = 0.598962717113\n",
        "Equation error = 3.38618022511e-15\n",
        "\n",
        "Iteration = 30"
       ]
      },
      {
       "output_type": "stream",
       "stream": "stdout",
       "text": [
        "\n",
        "Step predict = 0.0164810690501\n",
        "Correction steps = 1\n",
        "t = 0.684411516846\n",
        "Equation error = 2.99760216649e-15\n",
        "\n",
        "Iteration = 35"
       ]
      },
      {
       "output_type": "stream",
       "stream": "stdout",
       "text": [
        "\n",
        "Step predict = 0.0148419039586\n",
        "Correction steps = 1\n",
        "t = 0.761154687513\n",
        "Equation error = 3.44169137634e-15\n",
        "\n",
        "Iteration = 40"
       ]
      },
      {
       "output_type": "stream",
       "stream": "stdout",
       "text": [
        "\n",
        "Step predict = 0.0134310658216\n",
        "Correction steps = 1\n",
        "t = 0.83045628599\n",
        "Equation error = 3.21964677141e-15\n",
        "\n",
        "Iteration = 45"
       ]
      },
      {
       "output_type": "stream",
       "stream": "stdout",
       "text": [
        "\n",
        "Step predict = 0.0122147671918\n",
        "Correction steps = 1\n",
        "t = 0.893360999951\n",
        "Equation error = 3.27515792264e-15\n",
        "\n",
        "Off the rails."
       ]
      },
      {
       "output_type": "stream",
       "stream": "stdout",
       "text": [
        "\n",
        "Done at 49!\n",
        "t = nan\n",
        "Equation error = nan\n"
       ]
      }
     ],
     "prompt_number": 37
    },
    {
     "cell_type": "code",
     "collapsed": false,
     "input": [
      "def plot_index(idx=0):\n",
      "    parf_dict_po = mod_eq.array_to_dict(par_path_good_po[idx],mod_po.par_info,mod_po.par_sizes)\n",
      "    varf_dict_po = mod_po.array_to_dict(var_path_good_po[idx],mod_po.var_info,mod_po.var_sizes)\n",
      "\n",
      "    print 'Max err = {}'.format(np.max(np.abs(mod_po.eval_system(parf_dict_po,varf_dict_po))))\n",
      "\n",
      "    (W_fin,dW_fin) = varf_dict_po['W']\n",
      "\n",
      "    (fig,(ax1,ax2)) = subplots(1,2,figsize=(12,5))\n",
      "    ax1.plot(qgrid,W_fin); sns.despine(ax=ax1);\n",
      "    ax2.plot(qgrid,dW_fin); sns.despine(ax=ax2);\n",
      "\n",
      "interact(plot_index,idx=(0,len(t_path_good_po)-1));"
     ],
     "language": "python",
     "metadata": {},
     "outputs": [
      {
       "output_type": "stream",
       "stream": "stdout",
       "text": [
        "Max err = 2.94209101526e-15\n"
       ]
      },
      {
       "metadata": {},
       "output_type": "display_data",
       "png": "[encoded data removed]",
       "text": [
        "<matplotlib.figure.Figure at 0x7febf011dd10>"
       ]
      }
     ],
     "prompt_number": 45
    },
    {
     "cell_type": "code",
     "collapsed": false,
     "input": [],
     "language": "python",
     "metadata": {},
     "outputs": []
    }
   ],
   "metadata": {}
  }
 ]
}