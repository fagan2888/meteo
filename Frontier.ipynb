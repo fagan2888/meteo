{
 "cells": [
  {
   "cell_type": "code",
   "execution_count": 0,
   "metadata": {
    "collapsed": false
   },
   "outputs": [],
   "source": [
    "%pylab inline"
   ]
  },
  {
   "cell_type": "code",
   "execution_count": 0,
   "metadata": {
    "collapsed": false
   },
   "outputs": [],
   "source": [
    "import meteo\n",
    "import scipy.optimize as opt\n",
    "from IPython.html.widgets import interact\n",
    "import seaborn as sns\n",
    "sns.set_style('white')"
   ]
  },
  {
   "cell_type": "code",
   "execution_count": 0,
   "metadata": {
    "collapsed": false
   },
   "outputs": [],
   "source": [
    "N = 128\n",
    "qmin = 0.0\n",
    "qmax = 1.0\n",
    "\n",
    "g = 0.02\n",
    "delta = 0.05\n",
    "gamma = 2.0\n",
    "c = 500.0\n",
    "d = 300.0\n",
    "nu = 1.0\n",
    "\n",
    "Wmin = 0.0\n",
    "Wmax = gamma*c*delta**(gamma-1)\n",
    "Wfunc = lambda W: delta*W-1.0-(gamma-1)*c*(W/(gamma*c))**(gamma/(gamma-1))\n",
    "#Wbar = opt.brentq(Wfunc,Wmin,Wmax)\n",
    "Wbar = opt.fsolve(Wfunc,1.0)[0]\n",
    "x0 = (Wbar/(c*gamma))**(1/(gamma-1))\n",
    "print 'Wbar = {}, Werr = {}, x0 = {}'.format(Wbar,Wfunc(Wbar),x0)\n",
    "\n",
    "qgrid = np.linspace(qmin,qmax,N)\n",
    "Fgrid = qgrid**nu\n",
    "Wgrid = Wbar*qgrid\n",
    "Wpgrid = Wbar*np.ones_like(qgrid)\n",
    "Zgrid = Wbar*(nu/(nu+1))*(1-qgrid**(nu+1))\n",
    "Zpgrid = -Wbar*nu*qgrid**nu\n",
    "xgrid = (Wbar/(gamma*c))**(1/(gamma-1))*np.ones_like(qgrid)\n",
    "ygrid = (Zgrid/(gamma*d))**(1/(gamma-1))*np.ones_like(qgrid)\n",
    "\n",
    "constants = {'g': g,'delta': delta,'gamma': gamma,'c': c,'d': d,'nu': nu,'Wbar': Wbar,'x0': x0}"
   ]
  },
  {
   "cell_type": "code",
   "execution_count": 0,
   "metadata": {
    "collapsed": false
   },
   "outputs": [],
   "source": [
    "mod_eq = meteo.Model('models/frontier_equil.json',constants=constants)"
   ]
  },
  {
   "cell_type": "code",
   "execution_count": 0,
   "metadata": {
    "collapsed": false
   },
   "outputs": [],
   "source": [
    "(t_path_eq,par_path_eq,var_path_eq) = mod_eq.homotopy_bde({\"alpha\":0.0,\"g\":0.0},{\"alpha\":1.0,\"g\":g},\n",
    "                                                  {\"Wbar\":Wbar,\"W\":[Wgrid,Wpgrid],\"Z\":[Zgrid,Zpgrid],\"x\":xgrid,\"y\":ygrid},\n",
    "                                                  solve=True,output=True,delt=0.05,max_step=1000,max_newton=10)\n",
    "\n",
    "t_path_good_eq = t_path_eq[::2]\n",
    "par_path_good_eq = par_path_eq[::2]\n",
    "var_path_good_eq = var_path_eq[::2]\n",
    "\n",
    "parf_dict_eq = mod_eq.array_to_dict(par_path_good_eq[-1],mod_eq.par_info,mod_eq.par_sizes)\n",
    "varf_dict_eq = mod_eq.array_to_dict(var_path_good_eq[-1],mod_eq.var_info,mod_eq.var_sizes)"
   ]
  },
  {
   "cell_type": "code",
   "execution_count": 0,
   "metadata": {
    "collapsed": false
   },
   "outputs": [],
   "source": [
    "mod_sp = meteo.Model('models/frontier_socplan.json',constants=constants)"
   ]
  },
  {
   "cell_type": "code",
   "execution_count": 0,
   "metadata": {
    "collapsed": false
   },
   "outputs": [],
   "source": [
    "(t_path_sp,par_path_sp,var_path_sp) = mod_sp.homotopy_bde({\"alpha\":0.0,\"g\":0.0},{\"alpha\":1.0,\"g\":g},\n",
    "                                                  {\"Wbar\":Wbar,\"W\":[Wgrid,Wpgrid],\"Z\":[Zgrid,Zpgrid],\"x\":xgrid,\"y\":ygrid},\n",
    "                                                  solve=True,output=True,delt=0.05,max_step=1000,max_newton=10)\n",
    "\n",
    "t_path_good_sp = t_path_sp[::2]\n",
    "par_path_good_sp = par_path_sp[::2]\n",
    "var_path_good_sp = var_path_sp[::2]\n",
    "\n",
    "parf_dict_sp = mod_sp.array_to_dict(par_path_good_sp[-1],mod_sp.par_info,mod_sp.par_sizes)\n",
    "varf_dict_sp = mod_sp.array_to_dict(var_path_good_sp[-1],mod_sp.var_info,mod_sp.var_sizes)"
   ]
  },
  {
   "cell_type": "code",
   "execution_count": 0,
   "metadata": {
    "collapsed": false
   },
   "outputs": [],
   "source": [
    "# compare decentralized equilibrium and social planner's optimum\n",
    "gy_fact = (1/(nu+1))*(qgrid**(nu+1)-(nu+1)*qgrid+nu)/qgrid\n",
    "\n",
    "x_eq = varf_dict_eq['x']\n",
    "y_eq = varf_dict_eq['y']\n",
    "g_eq = x_eq + y_eq*gy_fact\n",
    "\n",
    "x_sp = varf_dict_sp['x']\n",
    "y_sp = varf_dict_sp['y']\n",
    "g_sp = x_sp + y_sp*gy_fact\n",
    "\n",
    "(fig,(ax1,ax2,ax3)) = subplots(1,3,figsize=(15,5))\n",
    "ax1.plot(qgrid,x_eq,qgrid,x_sp); sns.despine(ax=ax1);\n",
    "ax2.plot(qgrid,y_eq,qgrid,y_sp); sns.despine(ax=ax2);\n",
    "ax3.plot(qgrid,g_eq,qgrid,g_sp); ax3.set_ylim(0.02,0.06); sns.despine(ax=ax3);"
   ]
  },
  {
   "cell_type": "code",
   "execution_count": 0,
   "metadata": {
    "collapsed": false
   },
   "outputs": [],
   "source": [
    "mod_po = meteo.Model('models/frontier_privopt.json',constants=meteo.merge(constants,{'x': x_sp,'y': y_sp}))"
   ]
  },
  {
   "cell_type": "code",
   "execution_count": 0,
   "metadata": {
    "collapsed": false
   },
   "outputs": [],
   "source": [
    "(t_path_po,par_path_po,var_path_po) = mod_po.homotopy_bde({\"alpha\":0.0,\"g\":0.0},{\"alpha\":1.0,\"g\":g},\n",
    "                                                  {\"Wbar\":Wbar,\"x0\":x0,\"W\":[Wgrid,Wpgrid],\"Z\":[Zgrid,Zpgrid]},\n",
    "                                                  solve=True,output=True,delt=0.025,max_step=1000,max_newton=10,\n",
    "                                                  out_rep=5)\n",
    "\n",
    "t_path_good_po = t_path_po[::2]\n",
    "par_path_good_po = par_path_po[::2]\n",
    "var_path_good_po = var_path_po[::2]\n",
    "\n",
    "parf_dict_po = mod_po.array_to_dict(par_path_good_po[-1],mod_po.par_info,mod_po.par_sizes)\n",
    "varf_dict_po = mod_po.array_to_dict(var_path_good_po[-1],mod_po.var_info,mod_po.var_sizes)"
   ]
  },
  {
   "cell_type": "code",
   "execution_count": 0,
   "metadata": {
    "collapsed": false
   },
   "outputs": [],
   "source": [
    "def plot_index(idx=0):\n",
    "    parf_dict_po = mod_eq.array_to_dict(par_path_good_po[idx],mod_po.par_info,mod_po.par_sizes)\n",
    "    varf_dict_po = mod_po.array_to_dict(var_path_good_po[idx],mod_po.var_info,mod_po.var_sizes)\n",
    "\n",
    "    print 'Max err = {}'.format(np.max(np.abs(mod_po.eval_system(parf_dict_po,varf_dict_po))))\n",
    "\n",
    "    (W_fin,dW_fin) = varf_dict_po['W']\n",
    "    alpha = parf_dict_po['alpha']\n",
    "    x1 = (1-alpha)*x0 + alpha*x_sp\n",
    "\n",
    "    (fig,(ax1,ax2)) = subplots(1,2,figsize=(12,5))\n",
    "    ax1.plot(qgrid,x1); sns.despine(ax=ax1);\n",
    "    ax2.plot(qgrid,dW_fin); sns.despine(ax=ax2);\n",
    "\n",
    "interact(plot_index,idx=(0,len(t_path_good_po)-1));"
   ]
  },
  {
   "cell_type": "code",
   "execution_count": 0,
   "metadata": {
    "collapsed": false
   },
   "outputs": [],
   "source": [
    "(W_PO,dW_PO) = varf_dict_po['W']\n",
    "(Z_PO,dZ_PO) = varf_dict_po['Z']\n",
    "(W_SO,dW_SO) = varf_dict_sp['W']\n",
    "(Z_SO,dZ_SO) = varf_dict_sp['Z']\n",
    "\n",
    "sx = 1.0 - dW_PO/dW_SO\n",
    "sy = 1.0 - Z_PO/(Z_SO-(1-Fgrid)*W_SO)\n",
    "\n",
    "(fig,(ax1,ax2)) = subplots(1,2,figsize=(12,5))\n",
    "ax1.plot(qgrid,sx*c*x_sp**gamma); sns.despine(ax=ax1);\n",
    "ax2.plot(qgrid,sy*d*y_sp**gamma); sns.despine(ax=ax2);"
   ]
  },
  {
   "cell_type": "code",
   "execution_count": 0,
   "metadata": {
    "collapsed": true
   },
   "outputs": [],
   "source": [
    "exp_growth_eq = "
   ]
  }
 ],
 "metadata": {
  "kernelspec": {
   "display_name": "Python 2",
   "language": "python",
   "name": "python2"
  },
  "language_info": {
   "codemirror_mode": {
    "name": "ipython",
    "version": 2
   },
   "file_extension": ".py",
   "mimetype": "text/x-python",
   "name": "python",
   "nbconvert_exporter": "python",
   "pygments_lexer": "ipython2",
   "version": "2.7.9"
  }
 },
 "nbformat": 4,
 "nbformat_minor": 0
}