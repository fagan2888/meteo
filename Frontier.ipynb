{
 "metadata": {
  "name": "",
  "signature": "sha256:d7663b63792d6203fdb77d1f497ed64ccc80a7e297ca88794913794611f1a914"
 },
 "nbformat": 3,
 "nbformat_minor": 0,
 "worksheets": [
  {
   "cells": [
    {
     "cell_type": "code",
     "collapsed": false,
     "input": [
      "import meteo\n",
      "import scipy.optimize as opt\n",
      "from IPython.html.widgets import interact\n",
      "import seaborn as sns\n",
      "sns.set_style('white')"
     ],
     "language": "python",
     "metadata": {},
     "outputs": [],
     "prompt_number": 1
    },
    {
     "cell_type": "code",
     "collapsed": false,
     "input": [
      "N = 128\n",
      "\n",
      "g = 0.02\n",
      "delta = 0.05\n",
      "gamma = 2.0\n",
      "c = 500.0\n",
      "d = 300.0\n",
      "nu = 1.0\n",
      "\n",
      "Wmin = 0.0\n",
      "Wmax = gamma*c*delta**(gamma-1)\n",
      "Wfunc = lambda W: delta*W-1.0-(gamma-1)*c*(W/(gamma*c))**(gamma/(gamma-1))\n",
      "#Wbar = opt.brentq(Wfunc,Wmin,Wmax)\n",
      "Wbar = opt.fsolve(Wfunc,1.0)[0]\n",
      "x0 = (Wbar/(c*gamma))**(1/(gamma-1))\n",
      "print 'Wbar = {}, Werr = {}, x0 = {}'.format(Wbar,Wfunc(Wbar),x0)\n",
      "print\n",
      "\n",
      "qgrid = np.linspace(0.0,1.0,N)\n",
      "Wgrid = Wbar*qgrid\n",
      "Wpgrid = Wbar*np.ones_like(qgrid)\n",
      "Zgrid = Wbar*(nu/(nu+1))*(1-qgrid**(nu+1))\n",
      "Zpgrid = -Wbar*nu*qgrid**nu\n",
      "xgrid = (Wbar/(gamma*c))**(1/(gamma-1))*np.ones_like(qgrid)\n",
      "ygrid = (Zgrid/(gamma*d))**(1/(gamma-1))*np.ones_like(qgrid)\n",
      "\n",
      "constants = {'g': g,'delta': delta,'gamma': gamma,'c': c,'d': d,'nu': nu,'Wbar':Wbar,'x0':x0}"
     ],
     "language": "python",
     "metadata": {},
     "outputs": [
      {
       "output_type": "stream",
       "stream": "stdout",
       "text": [
        "Wbar = 27.639320225, Werr = -2.77555756156e-15, x0 = 0.027639320225\n",
        "\n"
       ]
      }
     ],
     "prompt_number": 7
    },
    {
     "cell_type": "code",
     "collapsed": false,
     "input": [
      "mod_eq = meteo.Model('models/frontier_equil.json',constants=constants)"
     ],
     "language": "python",
     "metadata": {},
     "outputs": [
      {
       "output_type": "stream",
       "stream": "stdout",
       "text": [
        "Compiling...\n"
       ]
      }
     ],
     "prompt_number": 8
    },
    {
     "cell_type": "code",
     "collapsed": false,
     "input": [
      "(t_path_eq,par_path_eq,var_path_eq) = mod_eq.homotopy_bde({\"alpha\":0.0,\"g\":0.0},{\"alpha\":1.0,\"g\":g},\n",
      "                                                  {\"Wbar\":Wbar,\"W\":[Wgrid,Wpgrid],\"Z\":[Zgrid,Zpgrid],\"x\":xgrid,\"y\":ygrid},\n",
      "                                                  solve=True,output=True,delt=0.05,max_step=1000,max_newton=10)\n",
      "\n",
      "t_path_good_eq = t_path_eq[::2]\n",
      "par_path_good_eq = par_path_eq[::2]\n",
      "var_path_good_eq = var_path_eq[::2]"
     ],
     "language": "python",
     "metadata": {},
     "outputs": [
      {
       "output_type": "stream",
       "stream": "stdout",
       "text": [
        "Equation Solved (0)\n",
        "\n",
        "t = 0.0\n",
        "Equation error = 3.5527136788e-15\n",
        "\n",
        "Iteration = 0"
       ]
      },
      {
       "output_type": "stream",
       "stream": "stdout",
       "text": [
        "\n",
        "Step predict = 0.0466610232312\n",
        "Correction steps = 1\n",
        "t = 0.0469155449015\n",
        "Equation error = 3.58046925442e-15\n",
        "\n",
        "Iteration = 5"
       ]
      },
      {
       "output_type": "stream",
       "stream": "stdout",
       "text": [
        "\n",
        "Step predict = 0.0417244433378\n",
        "Correction steps = 1\n",
        "t = 0.265533508345\n",
        "Equation error = 3.5527136788e-15\n",
        "\n",
        "Iteration = 10"
       ]
      },
      {
       "output_type": "stream",
       "stream": "stdout",
       "text": [
        "\n",
        "Step predict = 0.0371060245746\n",
        "Correction steps = 1\n",
        "t = 0.459294736474\n",
        "Equation error = 3.5527136788e-15\n",
        "\n",
        "Iteration = 15"
       ]
      },
      {
       "output_type": "stream",
       "stream": "stdout",
       "text": [
        "\n",
        "Step predict = 0.03293886132\n",
        "Correction steps = 1\n",
        "t = 0.630808611258\n",
        "Equation error = 7.1054273576e-15\n",
        "\n",
        "Iteration = 20"
       ]
      },
      {
       "output_type": "stream",
       "stream": "stdout",
       "text": [
        "\n",
        "Step predict = 0.0292612086571\n",
        "Correction steps = 1\n",
        "t = 0.782724936279\n",
        "Equation error = 5.9719590384e-14\n",
        "\n",
        "Iteration = 25"
       ]
      },
      {
       "output_type": "stream",
       "stream": "stdout",
       "text": [
        "\n",
        "Step predict = 0.0260480061142\n",
        "Correction steps = 2\n",
        "t = 0.917494723009\n",
        "Equation error = 7.1054273576e-15\n",
        "\n",
        "Done at 29!"
       ]
      },
      {
       "output_type": "stream",
       "stream": "stdout",
       "text": [
        "\n",
        "t = 1.0\n",
        "Equation error = 7.1054273576e-15\n"
       ]
      }
     ],
     "prompt_number": 9
    },
    {
     "cell_type": "code",
     "collapsed": false,
     "input": [],
     "language": "python",
     "metadata": {},
     "outputs": []
    }
   ],
   "metadata": {}
  }
 ]
}