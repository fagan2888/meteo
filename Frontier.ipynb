{
 "cells": [
  {
   "cell_type": "code",
   "execution_count": 0,
   "metadata": {
    "collapsed": false
   },
   "outputs": [],
   "source": [
    "%pylab inline"
   ]
  },
  {
   "cell_type": "code",
   "execution_count": 0,
   "metadata": {
    "collapsed": false
   },
   "outputs": [],
   "source": [
    "import meteo\n",
    "import scipy.optimize as opt\n",
    "from IPython.html.widgets import interact\n",
    "import seaborn as sns\n",
    "sns.set_style('white')"
   ]
  },
  {
   "cell_type": "code",
   "execution_count": 0,
   "metadata": {
    "collapsed": false
   },
   "outputs": [],
   "source": [
    "N = 128\n",
    "qmin = 0.0\n",
    "qmax = 1.0\n",
    "\n",
    "g = 0.02\n",
    "delta = 0.1\n",
    "gamma = 2.0\n",
    "c = 250.0\n",
    "d = 100.0\n",
    "beta = 3.0\n",
    "nu = 1.0\n",
    "\n",
    "Wmin = 0.0\n",
    "Wmax = gamma*c*delta**(gamma-1)\n",
    "Wfunc = lambda W: delta*W-1.0-(gamma-1)*c*(W/(gamma*c))**(gamma/(gamma-1))\n",
    "#Wbar = opt.brentq(Wfunc,Wmin,Wmax)\n",
    "Wbar = opt.fsolve(Wfunc,1.0)[0]\n",
    "x0 = (Wbar/(c*gamma))**(1/(gamma-1))\n",
    "print 'Wbar = {}, Werr = {}, x0 = {}, R0 = {}'.format(Wbar,Wfunc(Wbar),x0,c*x0**gamma)\n",
    "\n",
    "qgrid = np.linspace(qmin,qmax,N)\n",
    "dqgrid = np.diff(qgrid)\n",
    "fgrid = nu*qgrid**(nu-1) # qgrid*(1-qgrid)**(beta-1)*beta*(beta+1)\n",
    "Fgrid = np.r_[0.0,np.cumsum(fgrid[:-1]*dqgrid)]\n",
    "Wgrid = Wbar*qgrid\n",
    "Wpgrid = Wbar*np.ones_like(qgrid)\n",
    "Zpgrid = -Wgrid*fgrid\n",
    "Zgrid = np.r_[0.0,np.cumsum(-(Zpgrid[1:]*dqgrid)[::-1])][::-1]\n",
    "xgrid = (Wbar/(gamma*c))**(1/(gamma-1))*np.ones_like(qgrid)\n",
    "ygrid = (Zgrid/(gamma*d))**(1/(gamma-1))*np.ones_like(qgrid)\n",
    "\n",
    "constants = {'g': g,'delta': delta,'gamma': gamma,'c': c,'d': d,'Wbar': Wbar,'x0': x0, 'F': Fgrid, 'f': fgrid}"
   ]
  },
  {
   "cell_type": "code",
   "execution_count": 0,
   "metadata": {
    "collapsed": false
   },
   "outputs": [],
   "source": [
    "mod_eq = meteo.Model('models/frontier_equil.json',constants=constants,sparse=True)"
   ]
  },
  {
   "cell_type": "code",
   "execution_count": 0,
   "metadata": {
    "collapsed": false
   },
   "outputs": [],
   "source": [
    "(t_path_eq,par_path_eq,var_path_eq) = mod_eq.homotopy_elev({\"alpha\":0.0,\"g\":0.0},{\"alpha\":1.0,\"g\":g},\n",
    "                                       {\"Wbar\":Wbar,\"W\":[Wgrid,Wpgrid],\"Z\":[Zgrid,Zpgrid],\"x\":xgrid,\"y\":ygrid},\n",
    "                                       solve=True,output=True,delt=0.1,max_step=1000,max_newton=50)\n",
    "\n",
    "t_path_good_eq = t_path_eq[::2]\n",
    "par_path_good_eq = par_path_eq[::2]\n",
    "var_path_good_eq = var_path_eq[::2]\n",
    "\n",
    "parf_dict_eq = mod_eq.array_to_dict(par_path_good_eq[-1],mod_eq.par_info,mod_eq.par_sizes)\n",
    "varf_dict_eq = mod_eq.array_to_dict(var_path_good_eq[-1],mod_eq.var_info,mod_eq.var_sizes)"
   ]
  },
  {
   "cell_type": "code",
   "execution_count": 0,
   "metadata": {
    "collapsed": false
   },
   "outputs": [],
   "source": [
    "mod_sp = meteo.Model('models/frontier_socplan.json',constants=constants,sparse=True)"
   ]
  },
  {
   "cell_type": "code",
   "execution_count": 0,
   "metadata": {
    "collapsed": false
   },
   "outputs": [],
   "source": [
    "(t_path_sp,par_path_sp,var_path_sp) = mod_sp.homotopy_elev({\"alpha\":0.0,\"g\":0.0},{\"alpha\":1.0,\"g\":g},\n",
    "                                       {\"Wbar\":Wbar,\"W\":[Wgrid,Wpgrid],\"Z\":[Zgrid,Zpgrid],\"x\":xgrid,\"y\":ygrid},\n",
    "                                       solve=True,output=True,delt=0.1,max_step=1000,max_newton=20)\n",
    "\n",
    "t_path_good_sp = t_path_sp[::2]\n",
    "par_path_good_sp = par_path_sp[::2]\n",
    "var_path_good_sp = var_path_sp[::2]\n",
    "\n",
    "parf_dict_sp = mod_sp.array_to_dict(par_path_good_sp[-1],mod_sp.par_info,mod_sp.par_sizes)\n",
    "varf_dict_sp = mod_sp.array_to_dict(var_path_good_sp[-1],mod_sp.var_info,mod_sp.var_sizes)"
   ]
  },
  {
   "cell_type": "code",
   "execution_count": 0,
   "metadata": {
    "collapsed": false
   },
   "outputs": [],
   "source": [
    "# compare decentralized equilibrium and social planner's optimum\n",
    "#gy_fact = (1/(nu+1))*(qgrid**(nu+1)-(nu+1)*qgrid+nu)/qgrid\n",
    "\n",
    "x_eq = varf_dict_eq['x']\n",
    "y_eq = varf_dict_eq['y']\n",
    "#g_eq = x_eq + y_eq*gy_fact\n",
    "R_eq = c*x_eq**gamma + d*y_eq**gamma\n",
    "\n",
    "x_sp = varf_dict_sp['x']\n",
    "y_sp = varf_dict_sp['y']\n",
    "#g_sp = x_sp + y_sp*gy_fact\n",
    "R_sp = c*x_sp**gamma + d*y_sp**gamma\n",
    "\n",
    "(fig,(ax1,ax2,ax3)) = subplots(1,3,figsize=(15,5))\n",
    "ax1.plot(qgrid,x_eq,qgrid,x_sp); sns.despine(ax=ax1);\n",
    "ax2.plot(qgrid,y_eq,qgrid,y_sp); sns.despine(ax=ax2);\n",
    "ax3.plot(qgrid,R_eq,qgrid,R_sp); sns.despine(ax=ax3);"
   ]
  },
  {
   "cell_type": "code",
   "execution_count": 0,
   "metadata": {
    "collapsed": false
   },
   "outputs": [],
   "source": [
    "mod_po = meteo.Model('models/frontier_privopt.json',constants=meteo.merge(constants,{'x': x_sp,'y': y_sp}),sparse=True)"
   ]
  },
  {
   "cell_type": "code",
   "execution_count": 0,
   "metadata": {
    "collapsed": false
   },
   "outputs": [],
   "source": [
    "(t_path_po,par_path_po,var_path_po) = mod_po.homotopy_elev({\"alpha\":0.0,\"g\":0.0},{\"alpha\":1.0,\"g\":g},\n",
    "                                       {\"Wbar\":Wbar,\"x0\":x0,\"W\":[Wgrid,Wpgrid],\"Z\":[Zgrid,Zpgrid]},\n",
    "                                       solve=True,output=True,delt=0.1,max_step=1000,max_newton=20)\n",
    "\n",
    "t_path_good_po = t_path_po[::2]\n",
    "par_path_good_po = par_path_po[::2]\n",
    "var_path_good_po = var_path_po[::2]\n",
    "\n",
    "parf_dict_po = mod_po.array_to_dict(par_path_good_po[-1],mod_po.par_info,mod_po.par_sizes)\n",
    "varf_dict_po = mod_po.array_to_dict(var_path_good_po[-1],mod_po.var_info,mod_po.var_sizes)"
   ]
  },
  {
   "cell_type": "code",
   "execution_count": 0,
   "metadata": {
    "collapsed": false
   },
   "outputs": [],
   "source": [
    "(W_PO,dW_PO) = varf_dict_po['W']\n",
    "(Z_PO,dZ_PO) = varf_dict_po['Z']\n",
    "\n",
    "(W_SO,dW_SO) = varf_dict_sp['W']\n",
    "(Z_SO,dZ_SO) = varf_dict_sp['Z']\n",
    "\n",
    "sx = 1.0 - dW_PO/dW_SO\n",
    "sy = 1.0 - Z_PO/(Z_SO-(1-Fgrid)*W_SO)\n",
    "\n",
    "Rx_sp = c*x_sp**gamma\n",
    "Ry_sp = d*y_sp**gamma\n",
    "\n",
    "(fig,(ax1,ax2)) = subplots(1,2,figsize=(12,5))\n",
    "ax1.plot(qgrid,-sx/(1-sx)); ax1.set_ylim(0.0,0.2); sns.despine(ax=ax1);\n",
    "ax2.plot(qgrid,-sy/(1-sy)); ax2.set_ylim(0.0,1.0); sns.despine(ax=ax2);"
   ]
  },
  {
   "cell_type": "code",
   "execution_count": 0,
   "metadata": {
    "collapsed": true
   },
   "outputs": [],
   "source": []
  }
 ],
 "metadata": {
  "kernelspec": {
   "display_name": "Python 2",
   "language": "python",
   "name": "python2"
  },
  "language_info": {
   "codemirror_mode": {
    "name": "ipython",
    "version": 2
   },
   "file_extension": ".py",
   "mimetype": "text/x-python",
   "name": "python",
   "nbconvert_exporter": "python",
   "pygments_lexer": "ipython2",
   "version": "2.7.6"
  }
 },
 "nbformat": 4,
 "nbformat_minor": 0
}