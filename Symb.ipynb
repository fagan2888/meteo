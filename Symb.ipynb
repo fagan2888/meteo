{
 "cells": [
  {
   "cell_type": "code",
   "execution_count": 0,
   "metadata": {},
   "outputs": [],
   "source": [
    "import numpy as np\n",
    "import tensorflow as tf\n",
    "import meteo_symb as ms\n",
    "import pdvega"
   ]
  },
  {
   "cell_type": "code",
   "execution_count": 0,
   "metadata": {},
   "outputs": [],
   "source": [
    "sess = tf.InteractiveSession()"
   ]
  },
  {
   "cell_type": "code",
   "execution_count": 0,
   "metadata": {},
   "outputs": [],
   "source": [
    "N = 5\n",
    "alpha = tf.Variable(np.linspace(3.0, 4.0, N).astype(np.complex), name='alpha')\n",
    "x = tf.Variable(np.linspace(1.0, 2.0, N).astype(np.complex), name='x')\n",
    "eq = tf.identity(x**2-1+alpha*(7-5*x), name='eq')\n",
    "#mod = ms.Model([alpha], [x], [eq])"
   ]
  },
  {
   "cell_type": "code",
   "execution_count": 0,
   "metadata": {},
   "outputs": [],
   "source": [
    "with sess.as_default():\n",
    "    tf.global_variables_initializer().run()\n",
    "    print(eq.eval())"
   ]
  },
  {
   "cell_type": "code",
   "execution_count": 0,
   "metadata": {},
   "outputs": [],
   "source": [
    "with sess.as_default():\n",
    "    tf.global_variables_initializer().run()\n",
    "    print(mod.solve_system())\n",
    "    print(mod.error.eval())"
   ]
  },
  {
   "cell_type": "code",
   "execution_count": 0,
   "metadata": {},
   "outputs": [],
   "source": [
    "with sess.as_default():\n",
    "    tf.global_variables_initializer().run()\n",
    "    alpha.assign(np.zeros(N)).eval()\n",
    "    t_path, par_path, var_path = mod.homotopy_elev({alpha: 0.5*np.ones(N)})\n",
    "    print(alpha.eval())\n",
    "    print(mod.error.eval())"
   ]
  },
  {
   "cell_type": "code",
   "execution_count": 0,
   "metadata": {},
   "outputs": [],
   "source": [
    "idx = 0\n",
    "pd.DataFrame({\n",
    "    'alpha': par_path[alpha][::2,idx],\n",
    "    'x': var_path[x][::2,idx]\n",
    "}).set_index('alpha').vgplot()"
   ]
  },
  {
   "cell_type": "code",
   "execution_count": 0,
   "metadata": {},
   "outputs": [],
   "source": []
  }
 ],
 "metadata": {
  "kernelspec": {
   "display_name": "Python 3.7",
   "language": "python",
   "name": "python3.7"
  },
  "language_info": {
   "codemirror_mode": {
    "name": "ipython",
    "version": 3
   },
   "file_extension": ".py",
   "mimetype": "text/x-python",
   "name": "python",
   "nbconvert_exporter": "python",
   "pygments_lexer": "ipython3",
   "version": "3.7.4"
  }
 },
 "nbformat": 4,
 "nbformat_minor": 4
}