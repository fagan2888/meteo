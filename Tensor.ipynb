{
 "cells": [
  {
   "cell_type": "code",
   "execution_count": 0,
   "metadata": {},
   "outputs": [],
   "source": [
    "import tensorflow as tf\n",
    "import tensorflow_meteo as tm"
   ]
  },
  {
   "cell_type": "code",
   "execution_count": 0,
   "metadata": {},
   "outputs": [],
   "source": [
    "plotter(['scaled'])\n",
    "%matplotlib inline\n",
    "import matplotlib.pyplot as plt\n",
    "cmap = plt.rcParams['axes.prop_cycle'].by_key()['color']"
   ]
  },
  {
   "cell_type": "code",
   "execution_count": 0,
   "metadata": {},
   "outputs": [],
   "source": [
    "sess = tf.Session()"
   ]
  },
  {
   "cell_type": "markdown",
   "metadata": {},
   "source": [
    "# Real Solutions\n",
    "\n",
    "$$x^2 - 1 + z(7-\\alpha x)$$"
   ]
  },
  {
   "cell_type": "code",
   "execution_count": 0,
   "metadata": {},
   "outputs": [],
   "source": [
    "mod = tm.Model({\n",
    "    'constants': {\n",
    "        'alpha': 5.0\n",
    "    },\n",
    "    'parameters': {\n",
    "        'z': 1\n",
    "    },\n",
    "    'variables': {\n",
    "        'x': 1\n",
    "    },\n",
    "    'equations': {\n",
    "        'eq1': 'x**2-1+z*(7-alpha*x)'\n",
    "    }\n",
    "})"
   ]
  },
  {
   "cell_type": "code",
   "execution_count": 0,
   "metadata": {},
   "outputs": [],
   "source": [
    "pars = {'z': 0.0}\n",
    "var0 = {'x': 5.0}\n",
    "with sess.as_default():\n",
    "    var1 = mod.solve_system(pars, var0, output=True)\n",
    "    ret = mod.eval_system(pars, var1)\n",
    "    print(var1)\n",
    "    print(ret)"
   ]
  },
  {
   "cell_type": "code",
   "execution_count": 0,
   "metadata": {
    "scrolled": true
   },
   "outputs": [],
   "source": [
    "par0 = {'z': 0.0}\n",
    "par1 = {'z': 1.0}\n",
    "var0 = {'x': 5.0}\n",
    "with sess.as_default():\n",
    "    (t_path, par_path, var_path) = mod.homotopy_bde(par0, par1, var0,\n",
    "                                                    solve=True, output=True)"
   ]
  },
  {
   "cell_type": "code",
   "execution_count": 0,
   "metadata": {},
   "outputs": [],
   "source": [
    "plt.scatter(par_path[:,0], var_path[:,0]);"
   ]
  },
  {
   "cell_type": "markdown",
   "metadata": {},
   "source": [
    "# Complex Solutions\n",
    "\n",
    "$$a^2 - 1 + z(7-5a) - b^2 = 0$$\n",
    "$$b(2a-5z) = 0$$"
   ]
  },
  {
   "cell_type": "code",
   "execution_count": 0,
   "metadata": {},
   "outputs": [],
   "source": [
    "modc = tm.Model({\n",
    "    'parameters': {\n",
    "        'z': 1,\n",
    "        'eps': 1\n",
    "    },\n",
    "    'variables': {\n",
    "        'a': 1,\n",
    "        'b': 1\n",
    "    },\n",
    "    'equations': {\n",
    "        'eqr': 'a**2-1+z*(7-5*a)-b**2-eps',\n",
    "        'eqc': 'b*(2*a-5*z)+eps'\n",
    "    }\n",
    "})"
   ]
  },
  {
   "cell_type": "code",
   "execution_count": 0,
   "metadata": {},
   "outputs": [],
   "source": [
    "pars = {'z': 0.0, 'eps': 0.0}\n",
    "var0 = {'a': 1.1, 'b': 1.1}\n",
    "with sess.as_default():\n",
    "    sess.run(tf.global_variables_initializer())\n",
    "    var1 = modc.solve_system(pars, var0, output=True)\n",
    "    ret = modc.eval_system(pars, var1)"
   ]
  },
  {
   "cell_type": "code",
   "execution_count": 0,
   "metadata": {
    "scrolled": true
   },
   "outputs": [],
   "source": [
    "par0p = {'z': 0.0, 'eps': 0.01}\n",
    "par1p = {'z': 1.0, 'eps': 0.01}\n",
    "var0p = {'a': 1.0, 'b': 0.01}\n",
    "par0n = {'z': 0.0, 'eps': 0.01}\n",
    "par1n = {'z': 1.0, 'eps': 0.01}\n",
    "var0n = {'a': -1.0, 'b': 0.01}\n",
    "with sess.as_default():\n",
    "    (t_path1, par_path1, var_path1) = modc.homotopy_bde(par0p, par1p, var0p)\n",
    "    (t_path2, par_path2, var_path2) = modc.homotopy_bde(par0n, par1n, var0n)"
   ]
  },
  {
   "cell_type": "code",
   "execution_count": 0,
   "metadata": {},
   "outputs": [],
   "source": [
    "(fig, (ax1, ax2)) = plt.subplots(ncols=2, figsize=(14, 6))\n",
    "ax1.plot(var_path1[2::2,0], par_path1[2::2,0], c=cmap[0]);\n",
    "ax1.plot(var_path2[2::2,0], par_path2[2::2,0], c=cmap[1]);\n",
    "ax2.plot(var_path1[2::2,1], par_path1[2::2,0], c=cmap[0]);\n",
    "ax2.plot(var_path2[2::2,1], par_path2[2::2,0], c=cmap[1]);"
   ]
  },
  {
   "cell_type": "code",
   "execution_count": 0,
   "metadata": {},
   "outputs": [],
   "source": []
  }
 ],
 "metadata": {
  "kernelspec": {
   "display_name": "Python 3",
   "language": "python",
   "name": "python3"
  },
  "language_info": {
   "codemirror_mode": {
    "name": "ipython",
    "version": 3
   },
   "file_extension": ".py",
   "mimetype": "text/x-python",
   "name": "python",
   "nbconvert_exporter": "python",
   "pygments_lexer": "ipython3",
   "version": "3.6.2"
  }
 },
 "nbformat": 4,
 "nbformat_minor": 2
}