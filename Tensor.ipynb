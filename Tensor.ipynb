{
 "cells": [
  {
   "cell_type": "code",
   "execution_count": 2,
   "metadata": {},
   "outputs": [],
   "source": [
    "import tensorflow as tf\n",
    "import tensorflow_meteo as tm"
   ]
  },
  {
   "cell_type": "code",
   "execution_count": 3,
   "metadata": {},
   "outputs": [],
   "source": [
    "plotter(['clean'])\n",
    "%matplotlib inline\n",
    "import matplotlib.pyplot as plt\n",
    "cmap = plt.rcParams['axes.prop_cycle'].by_key()['color']"
   ]
  },
  {
   "cell_type": "code",
   "execution_count": 4,
   "metadata": {},
   "outputs": [],
   "source": [
    "sess = tf.Session()"
   ]
  },
  {
   "cell_type": "markdown",
   "metadata": {},
   "source": [
    "# Real Solutions\n",
    "\n",
    "$$x^2 - 1 + z(7-\\alpha x)$$"
   ]
  },
  {
   "cell_type": "code",
   "execution_count": 5,
   "metadata": {},
   "outputs": [],
   "source": [
    "mod = tm.Model({\n",
    "    'constants': {\n",
    "        'alpha': 5.0\n",
    "    },\n",
    "    'parameters': {\n",
    "        'z': 1\n",
    "    },\n",
    "    'variables': {\n",
    "        'x': 1\n",
    "    },\n",
    "    'equations': {\n",
    "        'eq1': 'x**2-1+z*(7-alpha*x)'\n",
    "    }\n",
    "})"
   ]
  },
  {
   "cell_type": "code",
   "execution_count": 6,
   "metadata": {},
   "outputs": [
    {
     "name": "stdout",
     "output_type": "stream",
     "text": [
      "Initial error = 24.0\n",
      "Equation Solved (6)\n",
      "par_val = [ 0.]\n",
      "var_val = [ 1.]\n",
      "eqn_val = [ 0.]\n",
      "\n",
      "{'x': 1.0}\n",
      "{'eq1': 0.0}\n"
     ]
    }
   ],
   "source": [
    "pars = {'z': 0.0}\n",
    "var0 = {'x': 5.0}\n",
    "with sess.as_default():\n",
    "    var1 = mod.solve_system(pars, var0, output=True)\n",
    "    ret = mod.eval_system(pars, var1)\n",
    "    print(var1)\n",
    "    print(ret)"
   ]
  },
  {
   "cell_type": "code",
   "execution_count": 7,
   "metadata": {
    "scrolled": true
   },
   "outputs": [
    {
     "name": "stdout",
     "output_type": "stream",
     "text": [
      "Initial error = 24.0\n",
      "Equation Solved (6)\n",
      "par_val = [ 0.]\n",
      "var_val = [ 1.]\n",
      "eqn_val = [ 0.]\n",
      "\n",
      "t = 0.0\n",
      "Equation error = 0.0\n",
      "\n",
      "Iteration = 0\n",
      "Step predict = 0.01\n",
      "Correction steps = 1\n",
      "t = 0.009849269065139919\n",
      "Equation error = 2.01574867908505e-15\n",
      "\n",
      "Iteration = 5\n",
      "Step predict = 0.008455530808389055\n",
      "Correction steps = 1\n",
      "t = 0.054406880132618546\n",
      "Equation error = 2.4702462297909733e-15\n",
      "\n",
      "Iteration = 10\n",
      "Step predict = 0.00686963229234568\n",
      "Correction steps = 1\n",
      "t = 0.09100159408980567\n",
      "Equation error = 1.609823385706477e-15\n",
      "\n",
      "Iteration = 15\n",
      "Step predict = 0.005316296364566446\n",
      "Correction steps = 1\n",
      "t = 0.1197388124792578\n",
      "Equation error = 5.551115123125783e-16\n",
      "\n",
      "Iteration = 20\n",
      "Step predict = 0.00386164081482998\n",
      "Correction steps = 1\n",
      "t = 0.1410600925103373\n",
      "Equation error = 0.0\n",
      "\n",
      "Iteration = 25\n",
      "Step predict = 0.0025519711323268787\n",
      "Correction steps = 1\n",
      "t = 0.15564609889393594\n",
      "Equation error = 1.1102230246251565e-16\n",
      "\n",
      "Iteration = 30\n",
      "Step predict = 0.001409742277111595\n",
      "Correction steps = 1\n",
      "t = 0.16430631276738808\n",
      "Equation error = 1.1102230246251565e-16\n",
      "\n",
      "Iteration = 35\n",
      "Step predict = 0.0004367398600628407\n",
      "Correction steps = 1\n",
      "t = 0.16788001785486353\n",
      "Equation error = 0.0\n",
      "\n",
      "Iteration = 40\n",
      "Step predict = -0.0003612593882185695\n",
      "Correction steps = 1\n",
      "t = 0.16719742141827643\n",
      "Equation error = 0.0\n",
      "\n",
      "Iteration = 45\n",
      "Step predict = -0.0009224275829316194\n",
      "Correction steps = 1\n",
      "t = 0.16335291761647422\n",
      "Equation error = 1.1102230246251565e-16\n",
      "\n",
      "Iteration = 50\n",
      "Step predict = -0.001324894195535125\n",
      "Correction steps = 1\n",
      "t = 0.15728136888856217\n",
      "Equation error = 1.1102230246251565e-16\n",
      "\n",
      "Iteration = 55\n",
      "Step predict = -0.001626701028436609\n",
      "Correction steps = 1\n",
      "t = 0.14956374732846694\n",
      "Equation error = 1.1102230246251565e-16\n",
      "\n",
      "Iteration = 60\n",
      "Step predict = -0.0018606072371028079\n",
      "Correction steps = 1\n",
      "t = 0.14058376646138415\n",
      "Equation error = 1.1102230246251565e-16\n",
      "\n",
      "Iteration = 65\n",
      "Step predict = -0.0020465667542220022\n",
      "Correction steps = 1\n",
      "t = 0.13060823865405038\n",
      "Equation error = 1.1102230246251565e-16\n",
      "\n",
      "Iteration = 70\n",
      "Step predict = -0.0021974484075922424\n",
      "Correction steps = 1\n",
      "t = 0.11983008616625178\n",
      "Equation error = 1.1102230246251565e-16\n",
      "\n",
      "Iteration = 75\n",
      "Step predict = -0.0023219296470338687\n",
      "Correction steps = 1\n",
      "t = 0.10839316877853811\n",
      "Equation error = 0.0\n",
      "\n",
      "Iteration = 80\n",
      "Step predict = -0.0024260746972533703\n",
      "Correction steps = 1\n",
      "t = 0.09640747373827498\n",
      "Equation error = 0.0\n",
      "\n",
      "Iteration = 85\n",
      "Step predict = -0.0025142479221160353\n",
      "Correction steps = 1\n",
      "t = 0.08395884973291223\n",
      "Equation error = 0.0\n",
      "\n",
      "Iteration = 90\n",
      "Step predict = -0.0025896685665589237\n",
      "Correction steps = 1\n",
      "t = 0.07111548494586277\n",
      "Equation error = 3.3306690738754696e-16\n",
      "\n",
      "Iteration = 95\n",
      "Step predict = -0.002654761437422356\n",
      "Correction steps = 1\n",
      "t = 0.057932356212109466\n",
      "Equation error = 0.0\n",
      "\n",
      "Iteration = 100\n",
      "Step predict = -0.002711386194824052\n",
      "Correction steps = 1\n",
      "t = 0.04445436730938263\n",
      "Equation error = 0.0\n",
      "\n",
      "Iteration = 105\n",
      "Step predict = -0.0027609916642915076\n",
      "Correction steps = 1\n",
      "t = 0.030718613875320523\n",
      "Equation error = 1.6653345369377348e-16\n",
      "\n",
      "Iteration = 110\n",
      "Step predict = -0.0028047223162374216\n",
      "Correction steps = 1\n",
      "t = 0.016756050836247482\n",
      "Equation error = 5.551115123125783e-17\n",
      "\n",
      "Iteration = 115\n",
      "Step predict = -0.002843493363298845\n",
      "Correction steps = 1\n",
      "t = 0.0025927415663122575\n",
      "Equation error = 0.0\n",
      "\n",
      "Done at 116!\n",
      "t = 0.0\n",
      "Equation error = 0.0\n"
     ]
    }
   ],
   "source": [
    "par0 = {'z': 0.0}\n",
    "par1 = {'z': 1.0}\n",
    "var0 = {'x': 5.0}\n",
    "with sess.as_default():\n",
    "    (t_path, par_path, var_path) = mod.homotopy_bde(par0, par1, var0,\n",
    "                                                    solve=True, output=True)"
   ]
  },
  {
   "cell_type": "code",
   "execution_count": 8,
   "metadata": {},
   "outputs": [
    {
     "data": {
      "image/png": "[encoded data removed]",
      "text/plain": [
       "<matplotlib.figure.Figure at 0x7f73f6ad4470>"
      ]
     },
     "metadata": {},
     "output_type": "display_data"
    }
   ],
   "source": [
    "plt.scatter(par_path[:,0], var_path[:,0]);"
   ]
  },
  {
   "cell_type": "markdown",
   "metadata": {},
   "source": [
    "# Complex Solutions\n",
    "\n",
    "Real (with ifuzz = $\\varepsilon$)\n",
    "$$x^2 - 1 + z(7-5x) = \\varepsilon i$$\n",
    "\n",
    "Complex\n",
    "$$a^2 - 1 + z(7-5a) - b^2 = 0$$\n",
    "$$b(2a-5z) = \\varepsilon$$"
   ]
  },
  {
   "cell_type": "code",
   "execution_count": 9,
   "metadata": {},
   "outputs": [],
   "source": [
    "modc = tm.Model({\n",
    "    'parameters': {\n",
    "        'z': 1,\n",
    "        'eps': 1\n",
    "    },\n",
    "    'variables': {\n",
    "        'a': 1,\n",
    "        'b': 1\n",
    "    },\n",
    "    'equations': {\n",
    "        'eqr': 'a**2-1+z*(7-5*a)-b**2',\n",
    "        'eqc': 'b*(2*a-5*z)-eps'\n",
    "    }\n",
    "})"
   ]
  },
  {
   "cell_type": "code",
   "execution_count": 10,
   "metadata": {},
   "outputs": [
    {
     "name": "stdout",
     "output_type": "stream",
     "text": [
      "Initial error = 2.4200000000000004\n",
      "Equation Solved (5)\n",
      "par_val = [ 0.  0.]\n",
      "var_val = [  1.00000000e+00   1.00557374e-21]\n",
      "eqn_val = [ -1.01117855e-42   2.01114749e-21]\n",
      "\n"
     ]
    }
   ],
   "source": [
    "pars = {'z': 0.0, 'eps': 0.0}\n",
    "var0 = {'a': 1.1, 'b': 1.1}\n",
    "with sess.as_default():\n",
    "    sess.run(tf.global_variables_initializer())\n",
    "    var1 = modc.solve_system(pars, var0, output=True)\n",
    "    ret = modc.eval_system(pars, var1)"
   ]
  },
  {
   "cell_type": "code",
   "execution_count": 11,
   "metadata": {
    "scrolled": true
   },
   "outputs": [],
   "source": [
    "par0p = {'z': 0.0, 'eps': 0.001}\n",
    "par1p = {'z': 1.0, 'eps': 0.001}\n",
    "var0p = {'a': 1.0, 'b': 0.001}\n",
    "par0n = {'z': 0.0, 'eps': 0.001}\n",
    "par1n = {'z': 1.0, 'eps': 0.001}\n",
    "var0n = {'a': -1.0, 'b': 0.001}\n",
    "with sess.as_default():\n",
    "    (t_path1, par_path1, var_path1) = modc.homotopy_bde(par0p, par1p, var0p)\n",
    "    (t_path2, par_path2, var_path2) = modc.homotopy_bde(par0n, par1n, var0n)"
   ]
  },
  {
   "cell_type": "code",
   "execution_count": 12,
   "metadata": {},
   "outputs": [
    {
     "data": {
      "image/png": "[encoded data removed]",
      "text/plain": [
       "<matplotlib.figure.Figure at 0x7f73eb696320>"
      ]
     },
     "metadata": {},
     "output_type": "display_data"
    }
   ],
   "source": [
    "(fig, (ax1, ax2)) = plt.subplots(ncols=2, figsize=(14, 6))\n",
    "ax1.plot(var_path1[2::2,0], par_path1[2::2,0], c=cmap[0]);\n",
    "ax1.plot(var_path2[2::2,0], par_path2[2::2,0], c=cmap[1]);\n",
    "ax2.plot(var_path1[2::2,1], par_path1[2::2,0], c=cmap[0]);\n",
    "ax2.plot(var_path2[2::2,1], par_path2[2::2,0], c=cmap[1]);"
   ]
  },
  {
   "cell_type": "code",
   "execution_count": 0,
   "metadata": {
    "collapsed": true
   },
   "outputs": [],
   "source": []
  }
 ],
 "metadata": {
  "kernelspec": {
   "display_name": "Python 3",
   "language": "python",
   "name": "python3"
  },
  "language_info": {
   "codemirror_mode": {
    "name": "ipython",
    "version": 3
   },
   "file_extension": ".py",
   "mimetype": "text/x-python",
   "name": "python",
   "nbconvert_exporter": "python",
   "pygments_lexer": "ipython3",
   "version": "3.6.0b2"
  }
 },
 "nbformat": 4,
 "nbformat_minor": 2
}
