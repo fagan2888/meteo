{
 "cells": [
  {
   "cell_type": "code",
   "execution_count": 0,
   "metadata": {},
   "outputs": [],
   "source": [
    "import tensorflow as tf\n",
    "import grad_constr"
   ]
  },
  {
   "cell_type": "code",
   "execution_count": 0,
   "metadata": {},
   "outputs": [],
   "source": [
    "x = tf.Variable(1.0, dtype=tf.float32, name='x')\n",
    "y = tf.Variable(0.0, dtype=tf.float32, name='y')"
   ]
  },
  {
   "cell_type": "code",
   "execution_count": 0,
   "metadata": {},
   "outputs": [],
   "source": [
    "con = x*x + y*y - 1\n",
    "obj = x + y"
   ]
  },
  {
   "cell_type": "code",
   "execution_count": 0,
   "metadata": {},
   "outputs": [],
   "source": [
    "gd_upds, gz_upds, gain = grad_constr.constrained_gradient_descent(obj, [con], [x, y])"
   ]
  },
  {
   "cell_type": "code",
   "execution_count": 0,
   "metadata": {},
   "outputs": [],
   "source": [
    "hist = []\n",
    "with tf.Session() as sess:\n",
    "    sess.run(tf.global_variables_initializer())\n",
    "    hist.append(sess.run([x, y]))\n",
    "    for i in range(50):\n",
    "        sess.run(gd_upds)\n",
    "        hist.append(sess.run([x, y]))\n",
    "        sess.run(gz_upds)\n",
    "        hist.append(sess.run([x, y]))\n",
    "    hist.append(sess.run([x, y]))\n",
    "    hist = pd.DataFrame(hist, columns=['x', 'y'])"
   ]
  },
  {
   "cell_type": "code",
   "execution_count": 0,
   "metadata": {},
   "outputs": [],
   "source": [
    "hist.vgplot.scatter('x', 'y')"
   ]
  },
  {
   "cell_type": "code",
   "execution_count": 0,
   "metadata": {},
   "outputs": [],
   "source": []
  }
 ],
 "metadata": {
  "kernelspec": {
   "display_name": "Python 3.7",
   "language": "python",
   "name": "python3.7"
  },
  "language_info": {
   "codemirror_mode": {
    "name": "ipython",
    "version": 3
   },
   "file_extension": ".py",
   "mimetype": "text/x-python",
   "name": "python",
   "nbconvert_exporter": "python",
   "pygments_lexer": "ipython3",
   "version": "3.7.4"
  }
 },
 "nbformat": 4,
 "nbformat_minor": 4
}