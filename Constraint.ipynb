{
 "cells": [
  {
   "cell_type": "code",
   "execution_count": 0,
   "metadata": {},
   "outputs": [],
   "source": [
    "import tensorflow as tf\n",
    "import grad_constr"
   ]
  },
  {
   "cell_type": "code",
   "execution_count": 0,
   "metadata": {},
   "outputs": [],
   "source": [
    "import altair as alt\n",
    "import pdvega"
   ]
  },
  {
   "cell_type": "code",
   "execution_count": 0,
   "metadata": {},
   "outputs": [],
   "source": [
    "x = tf.Variable(1.0, dtype=tf.float32, name='x')\n",
    "y = tf.Variable(0.0, dtype=tf.float32, name='y')"
   ]
  },
  {
   "cell_type": "code",
   "execution_count": 0,
   "metadata": {},
   "outputs": [],
   "source": [
    "con = x*x + y*y - 1\n",
    "obj = x + y"
   ]
  },
  {
   "cell_type": "code",
   "execution_count": 0,
   "metadata": {},
   "outputs": [],
   "source": [
    "gd_upds, gz_upds, gain = grad_constr.constrained_gradient_descent(obj, [con], [x, y])"
   ]
  },
  {
   "cell_type": "code",
   "execution_count": 0,
   "metadata": {},
   "outputs": [],
   "source": [
    "hist = []\n",
    "with tf.Session() as sess:\n",
    "    sess.run(tf.global_variables_initializer())\n",
    "    hist.append(['start']+sess.run([x, y]))\n",
    "    for i in range(50):\n",
    "        sess.run(gd_upds)\n",
    "        hist.append(['gradient']+sess.run([x, y]))\n",
    "        sess.run(gz_upds)\n",
    "        hist.append(['correct']+sess.run([x, y]))\n",
    "    hist.append(['end', np.sqrt(2)/2, np.sqrt(2)/2])\n",
    "    hist = pd.DataFrame(hist, columns=['type', 'x', 'y'])"
   ]
  },
  {
   "cell_type": "code",
   "execution_count": 0,
   "metadata": {},
   "outputs": [],
   "source": [
    "hist1 = hist.query('type != \"gradient\"')\n",
    "alt.Chart(hist1).mark_circle(size=60).encode(x='x', y='y', color='type')"
   ]
  },
  {
   "cell_type": "code",
   "execution_count": 0,
   "metadata": {},
   "outputs": [],
   "source": []
  }
 ],
 "metadata": {
  "kernelspec": {
   "display_name": "Python 3.7",
   "language": "python",
   "name": "python37"
  },
  "language_info": {
   "codemirror_mode": {
    "name": "ipython",
    "version": 3
   },
   "file_extension": ".py",
   "mimetype": "text/x-python",
   "name": "python",
   "nbconvert_exporter": "python",
   "pygments_lexer": "ipython3",
   "version": "3.7.4"
  }
 },
 "nbformat": 4,
 "nbformat_minor": 4
}