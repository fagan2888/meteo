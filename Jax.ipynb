{
 "cells": [
  {
   "cell_type": "code",
   "execution_count": 0,
   "metadata": {},
   "outputs": [],
   "source": [
    "import numpy as np0\n",
    "import jax.numpy as np\n",
    "import jax.random as random\n",
    "import grad_constr_jax"
   ]
  },
  {
   "cell_type": "markdown",
   "metadata": {},
   "source": [
    "## Test Model"
   ]
  },
  {
   "cell_type": "code",
   "execution_count": 0,
   "metadata": {},
   "outputs": [],
   "source": [
    "def con(x, y):\n",
    "    return [\n",
    "        np.sum(x*x) - 1.0,\n",
    "        np.sum(y*y) - 1.0\n",
    "    ]\n",
    "def obj(x, y):\n",
    "    return np.sum(x) + np.sum(y)"
   ]
  },
  {
   "cell_type": "code",
   "execution_count": 0,
   "metadata": {},
   "outputs": [],
   "source": [
    "key = random.PRNGKey(0)\n",
    "var0 = {\n",
    "    'x': random.uniform(key, (100,)),\n",
    "    'y': random.uniform(key, (100,))\n",
    "}"
   ]
  },
  {
   "cell_type": "code",
   "execution_count": 0,
   "metadata": {},
   "outputs": [],
   "source": [
    "%time var1 = grad_constr_jax.constrained_gradient_descent(obj, con, var0, output=True)"
   ]
  },
  {
   "cell_type": "code",
   "execution_count": 0,
   "metadata": {},
   "outputs": [],
   "source": [
    "var1['x'][:10]"
   ]
  },
  {
   "cell_type": "markdown",
   "metadata": {},
   "source": [
    "## Simple Model"
   ]
  },
  {
   "cell_type": "code",
   "execution_count": 0,
   "metadata": {},
   "outputs": [],
   "source": [
    "N = 100\n",
    "theta_min, theta_max = 1, 2"
   ]
  },
  {
   "cell_type": "code",
   "execution_count": 0,
   "metadata": {},
   "outputs": [],
   "source": [
    "theta = np.linspace(theta_min, theta_max, N)\n",
    "dist = (1/N)*np.ones(N)"
   ]
  },
  {
   "cell_type": "code",
   "execution_count": 0,
   "metadata": {},
   "outputs": [],
   "source": [
    "data = np.array([\n",
    "    2.0,\n",
    "    0.3,\n",
    "    0.05,\n",
    "    0.02\n",
    "])"
   ]
  },
  {
   "cell_type": "code",
   "execution_count": 0,
   "metadata": {},
   "outputs": [],
   "source": [
    "def mean(x):\n",
    "    return np.sum(x*dist)\n",
    "def std(x):\n",
    "    return np.sum((x**2)*dist) - mean(x)**2\n",
    "def q_func(alpha, rho, r, theta):\n",
    "    return (alpha*r**(1-rho)+(1-alpha)*theta**(1-rho))**(1/(1-rho))\n",
    "def con(alpha, rho, kappa, eta, zeta, r, qbar):\n",
    "    rp = np.maximum(0.001, r)\n",
    "    q = q_func(alpha, rho, rp, theta)\n",
    "    dq = alpha*(q/rp)**rho\n",
    "    return [\n",
    "        dq*qbar**zeta - kappa*rp**eta,\n",
    "        qbar - np.sum(q*dist)\n",
    "    ]\n",
    "def mmt(alpha, rho, kappa, eta, zeta, r, qbar):\n",
    "    rp = np.maximum(0.001, r)\n",
    "    q = q_func(alpha, rho, rp, theta)\n",
    "    M = kappa*(rp**(1+eta))/(1+kappa)\n",
    "    prof = (qbar**zeta)*q\n",
    "    return [\n",
    "        mean(prof),\n",
    "        std(prof),\n",
    "        mean(M),\n",
    "        std(M)\n",
    "    ]\n",
    "def obj(alpha, rho, kappa, eta, zeta, r, qbar):\n",
    "    theory = np.array(mmt(alpha, rho, kappa, eta, zeta, r, qbar))\n",
    "    return -np.sum((theory-data)**2)"
   ]
  },
  {
   "cell_type": "code",
   "execution_count": 0,
   "metadata": {},
   "outputs": [],
   "source": [
    "vmin = {\n",
    "    'eta': np.array([0.0])\n",
    "}"
   ]
  },
  {
   "cell_type": "code",
   "execution_count": 0,
   "metadata": {},
   "outputs": [],
   "source": [
    "var0 = {\n",
    "    'alpha': np.array([0.5]),\n",
    "    'rho': np.array([1.5]),\n",
    "    'kappa': np.array([0.01]),\n",
    "    'eta': np.array([1.0]),\n",
    "    'zeta': np.array([0.02]),\n",
    "    'r': 0.1*np.ones(N),\n",
    "    'qbar': np.array([1.0])\n",
    "}"
   ]
  },
  {
   "cell_type": "code",
   "execution_count": 0,
   "metadata": {},
   "outputs": [],
   "source": [
    "var1 = grad_constr_jax.constrained_gradient_descent(\n",
    "    obj, con, var0, vmin=vmin, max_iter=1000, output=True\n",
    ")"
   ]
  },
  {
   "cell_type": "code",
   "execution_count": 0,
   "metadata": {},
   "outputs": [],
   "source": [
    "var1"
   ]
  },
  {
   "cell_type": "code",
   "execution_count": 0,
   "metadata": {},
   "outputs": [],
   "source": [
    "obj(**var1)"
   ]
  },
  {
   "cell_type": "code",
   "execution_count": 0,
   "metadata": {},
   "outputs": [],
   "source": []
  }
 ],
 "metadata": {
  "kernelspec": {
   "display_name": "Python 3.7",
   "language": "python",
   "name": "python3.7"
  },
  "language_info": {
   "codemirror_mode": {
    "name": "ipython",
    "version": 3
   },
   "file_extension": ".py",
   "mimetype": "text/x-python",
   "name": "python",
   "nbconvert_exporter": "python",
   "pygments_lexer": "ipython3",
   "version": "3.7.1"
  }
 },
 "nbformat": 4,
 "nbformat_minor": 4
}