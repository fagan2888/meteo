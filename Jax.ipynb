{
 "cells": [
  {
   "cell_type": "code",
   "execution_count": 0,
   "metadata": {},
   "outputs": [],
   "source": [
    "import numpy as np0\n",
    "import jax\n",
    "import jax.numpy as np\n",
    "import jax.random as random\n",
    "import grad_constr_jax as gc\n",
    "import mectools.endy as nd"
   ]
  },
  {
   "cell_type": "markdown",
   "metadata": {},
   "source": [
    "## Test Model"
   ]
  },
  {
   "cell_type": "code",
   "execution_count": 0,
   "metadata": {},
   "outputs": [],
   "source": [
    "N = 100"
   ]
  },
  {
   "cell_type": "code",
   "execution_count": 0,
   "metadata": {},
   "outputs": [],
   "source": [
    "def con(x, y):\n",
    "    return [\n",
    "        np.sum(x*x) - 1.0,\n",
    "        np.sum(y*y) - 1.0\n",
    "    ]\n",
    "def obj(x, y):\n",
    "    return -(np.sum(x)+np.sum(y))"
   ]
  },
  {
   "cell_type": "code",
   "execution_count": 0,
   "metadata": {},
   "outputs": [],
   "source": [
    "key = random.PRNGKey(0)\n",
    "var0 = {\n",
    "    'x': random.uniform(key, (N,)),\n",
    "    'y': random.uniform(key, (N,))\n",
    "}"
   ]
  },
  {
   "cell_type": "code",
   "execution_count": 0,
   "metadata": {},
   "outputs": [],
   "source": [
    "%time var1 = gc.constrained_gradient_descent(obj, con, var0, output=True)"
   ]
  },
  {
   "cell_type": "code",
   "execution_count": 0,
   "metadata": {},
   "outputs": [],
   "source": [
    "np.max(np.abs(var1['x']-1/np.sqrt(N)))"
   ]
  },
  {
   "cell_type": "markdown",
   "metadata": {},
   "source": [
    "## Macro Model"
   ]
  },
  {
   "cell_type": "code",
   "execution_count": 0,
   "metadata": {},
   "outputs": [],
   "source": [
    "N = 100\n",
    "theta_min, theta_max = 1, 2"
   ]
  },
  {
   "cell_type": "code",
   "execution_count": 0,
   "metadata": {},
   "outputs": [],
   "source": [
    "theta = np.linspace(theta_min, theta_max, N)\n",
    "dist = (1/N)*np.ones(N)"
   ]
  },
  {
   "cell_type": "code",
   "execution_count": 0,
   "metadata": {},
   "outputs": [],
   "source": [
    "data = np.array([\n",
    "    2.0,\n",
    "    0.3,\n",
    "    0.05\n",
    "])"
   ]
  },
  {
   "cell_type": "code",
   "execution_count": 0,
   "metadata": {},
   "outputs": [],
   "source": [
    "def mean(x):\n",
    "    return np.sum(x*dist)\n",
    "def std(x):\n",
    "    return np.sum((x**2)*dist) - mean(x)**2\n",
    "def q_func(alpha, rho, r, theta):\n",
    "    return (alpha*r**(1-rho)+(1-alpha)*theta**(1-rho))**(1/(1-rho))\n",
    "def con(alpha, rho, kappa, eta, zeta, r, qbar):\n",
    "    q = q_func(alpha, rho, r, theta)\n",
    "    dq = alpha*(q/r)**rho\n",
    "    return [\n",
    "        dq*qbar**zeta - kappa*r**eta,\n",
    "        qbar - np.sum(q*dist)\n",
    "    ]\n",
    "def mmt(alpha, rho, kappa, eta, zeta, r, qbar):\n",
    "    q = q_func(alpha, rho, r, theta)\n",
    "    M = kappa*(r**(1+eta))/(1+kappa)\n",
    "    prof = (qbar**zeta)*q\n",
    "    return [\n",
    "        mean(prof),\n",
    "        std(prof),\n",
    "        mean(M)\n",
    "    ]\n",
    "def obj(alpha, rho, kappa, eta, zeta, r, qbar):\n",
    "    theory = np.array(mmt(alpha, rho, kappa, eta, zeta, r, qbar))\n",
    "    return -np.sum(((theory-data)/data)**2)"
   ]
  },
  {
   "cell_type": "code",
   "execution_count": 0,
   "metadata": {},
   "outputs": [],
   "source": [
    "vmin = {\n",
    "    'eta': 0.0\n",
    "}"
   ]
  },
  {
   "cell_type": "code",
   "execution_count": 0,
   "metadata": {},
   "outputs": [],
   "source": [
    "var0 = {\n",
    "    'alpha': 0.5,\n",
    "    'rho': 1.5,\n",
    "    'kappa': 0.01,\n",
    "    'eta': 1.0,\n",
    "    'zeta': 0.02,\n",
    "    'r': 0.1*np.ones(N),\n",
    "    'qbar': 1.0\n",
    "}"
   ]
  },
  {
   "cell_type": "code",
   "execution_count": 0,
   "metadata": {},
   "outputs": [],
   "source": [
    "%time var1 = grad_constr_jax.constrained_gradient_descent(obj, con, var0, vmin=vmin, output=True)"
   ]
  },
  {
   "cell_type": "code",
   "execution_count": 0,
   "metadata": {},
   "outputs": [],
   "source": [
    "var1"
   ]
  },
  {
   "cell_type": "markdown",
   "metadata": {},
   "source": [
    "## Micro Model"
   ]
  },
  {
   "cell_type": "code",
   "execution_count": 0,
   "metadata": {},
   "outputs": [],
   "source": [
    "N = 64 # number of grid points\n",
    "theta_min, theta_max = 1, 2"
   ]
  },
  {
   "cell_type": "code",
   "execution_count": 0,
   "metadata": {},
   "outputs": [],
   "source": [
    "theta = np0.linspace(theta_min, theta_max, N)\n",
    "pmf = (1/N)*np.ones(N)\n",
    "cmf = np.cumsum(pmf)"
   ]
  },
  {
   "cell_type": "code",
   "execution_count": 0,
   "metadata": {},
   "outputs": [],
   "source": [
    "def q_func(alpha, rho, r, theta):\n",
    "    return (alpha*r**(1-rho)+(1-alpha)*theta**(1-rho))**(1/(1-rho))\n",
    "def equil(alpha, rho, kappa, eta, zeta, r, qbar):\n",
    "    q = q_func(alpha, rho, r, theta)\n",
    "    dq = alpha*(q/r)**rho\n",
    "    return [\n",
    "        dq*qbar**zeta - kappa*r**eta,\n",
    "        qbar - np.sum(q*pmf)\n",
    "    ]"
   ]
  },
  {
   "cell_type": "code",
   "execution_count": 0,
   "metadata": {},
   "outputs": [],
   "source": [
    "def solve_model(alpha, rho, kappa, eta, zeta, **kwargs):\n",
    "    con = lambda r, qbar: equil(alpha, rho, kappa, eta, zeta, r, qbar)\n",
    "    var0 = {\n",
    "        'r': 0.1*np.ones(N),\n",
    "        'qbar': 1.0\n",
    "    }\n",
    "    return gc.gradient_lstsq(con, var0, **kwargs)"
   ]
  },
  {
   "cell_type": "code",
   "execution_count": 0,
   "metadata": {},
   "outputs": [],
   "source": [
    "par0 = {\n",
    "    'alpha': 0.3,\n",
    "    'rho': 1.5,\n",
    "    'kappa': 0.1,\n",
    "    'eta': 2.0,\n",
    "    'zeta': 0.02\n",
    "}"
   ]
  },
  {
   "cell_type": "code",
   "execution_count": 0,
   "metadata": {},
   "outputs": [],
   "source": [
    "sol = solve_model(**par0, vmin={'qbar': 0.01}, step=0.1, output=True)\n",
    "print(sol['qbar'], np.mean(sol['r']))"
   ]
  },
  {
   "cell_type": "code",
   "execution_count": 0,
   "metadata": {},
   "outputs": [],
   "source": [
    "M = 128 # number of firms in data"
   ]
  },
  {
   "cell_type": "code",
   "execution_count": 0,
   "metadata": {},
   "outputs": [],
   "source": [
    "data = pd.DataFrame({\n",
    "    'bin': nd.random_vec(cmf, M)\n",
    "})\n",
    "data['theta'] = theta[data['bin']]\n",
    "data['r'] = sol['r'][data['bin']]\n",
    "data['q'] = q_func(par0['alpha'], par0['rho'], data['r'], data['theta'])\n",
    "data.head()"
   ]
  },
  {
   "cell_type": "code",
   "execution_count": 0,
   "metadata": {},
   "outputs": [],
   "source": [
    "def mean(x):\n",
    "    return np.sum(x*dist)\n",
    "def std(x):\n",
    "    return np.sum((x**2)*dist) - mean(x)**2\n",
    "def mmt(alpha, rho, kappa, eta, zeta, r, qbar):\n",
    "    q = q_func(alpha, rho, r, theta)\n",
    "    M = kappa*(r**(1+eta))/(1+kappa)\n",
    "    prof = (qbar**zeta)*q\n",
    "    return [\n",
    "        mean(prof),\n",
    "        std(prof),\n",
    "        mean(M)\n",
    "    ]\n",
    "def obj(alpha, rho, kappa, eta, zeta, r, qbar):\n",
    "    theory = np.array(mmt(alpha, rho, kappa, eta, zeta, r, qbar))\n",
    "    return -np.sum(((theory-data)/data)**2)"
   ]
  },
  {
   "cell_type": "code",
   "execution_count": 0,
   "metadata": {},
   "outputs": [],
   "source": [
    "vmin = {\n",
    "    'eta': 0.0\n",
    "}"
   ]
  },
  {
   "cell_type": "code",
   "execution_count": 0,
   "metadata": {},
   "outputs": [],
   "source": [
    "var0 = {\n",
    "    'alpha': 0.5,\n",
    "    'rho': 1.5,\n",
    "    'kappa': 0.01,\n",
    "    'eta': 1.0,\n",
    "    'zeta': 0.02,\n",
    "    'r': 0.1*np.ones(N),\n",
    "    'qbar': 1.0\n",
    "}"
   ]
  },
  {
   "cell_type": "code",
   "execution_count": 0,
   "metadata": {},
   "outputs": [],
   "source": [
    "%time var1 = grad_constr_jax.constrained_gradient_descent(obj, equil, var0, vmin=vmin, output=True)"
   ]
  },
  {
   "cell_type": "code",
   "execution_count": 0,
   "metadata": {},
   "outputs": [],
   "source": [
    "var1"
   ]
  },
  {
   "cell_type": "code",
   "execution_count": 0,
   "metadata": {},
   "outputs": [],
   "source": []
  }
 ],
 "metadata": {
  "kernelspec": {
   "display_name": "Python 3.7",
   "language": "python",
   "name": "python3.7"
  },
  "language_info": {
   "codemirror_mode": {
    "name": "ipython",
    "version": 3
   },
   "file_extension": ".py",
   "mimetype": "text/x-python",
   "name": "python",
   "nbconvert_exporter": "python",
   "pygments_lexer": "ipython3",
   "version": "3.7.1"
  }
 },
 "nbformat": 4,
 "nbformat_minor": 4
}