{
 "cells": [
  {
   "cell_type": "code",
   "execution_count": 0,
   "metadata": {},
   "outputs": [],
   "source": [
    "import numpy as np0\n",
    "import jax.numpy as np\n",
    "import jax.random as random\n",
    "import grad_constr_jax"
   ]
  },
  {
   "cell_type": "markdown",
   "metadata": {},
   "source": [
    "## Test Model"
   ]
  },
  {
   "cell_type": "code",
   "execution_count": 0,
   "metadata": {},
   "outputs": [],
   "source": [
    "def con(x, y):\n",
    "    return [\n",
    "        np.sum(x*x) - 1.0,\n",
    "        np.sum(y*y) - 1.0\n",
    "    ]\n",
    "def obj(x, y):\n",
    "    return np.sum(x) + np.sum(y)"
   ]
  },
  {
   "cell_type": "code",
   "execution_count": 0,
   "metadata": {},
   "outputs": [],
   "source": [
    "key = random.PRNGKey(0)\n",
    "var0 = {\n",
    "    'x': random.uniform(key, (250,)),\n",
    "    'y': random.uniform(key, (250,))\n",
    "}"
   ]
  },
  {
   "cell_type": "code",
   "execution_count": 0,
   "metadata": {},
   "outputs": [],
   "source": [
    "%time var1 = grad_constr_jax.constrained_gradient_descent(obj, con, var0, output=True)"
   ]
  },
  {
   "cell_type": "markdown",
   "metadata": {},
   "source": [
    "## Simple Model"
   ]
  },
  {
   "cell_type": "code",
   "execution_count": 0,
   "metadata": {},
   "outputs": [],
   "source": [
    "N = 100\n",
    "theta_min, theta_max = 1, 2"
   ]
  },
  {
   "cell_type": "code",
   "execution_count": 0,
   "metadata": {},
   "outputs": [],
   "source": [
    "theta = np.linspace(theta_min, theta_max, N)\n",
    "dist = (1/N)*np.ones(N)"
   ]
  },
  {
   "cell_type": "code",
   "execution_count": 0,
   "metadata": {},
   "outputs": [],
   "source": [
    "data = np.array([\n",
    "    1.0,\n",
    "    0.1,\n",
    "    0.2\n",
    "])"
   ]
  },
  {
   "cell_type": "code",
   "execution_count": 0,
   "metadata": {},
   "outputs": [],
   "source": [
    "def con(alpha, rho, kappa, eta, zeta, r, qbar):\n",
    "    q = (alpha*r**(1-rho)+(1-alpha)*theta**(1-rho))**(1/(1-rho))\n",
    "    dq = alpha*(q/r)**rho\n",
    "    return [\n",
    "        dq*qbar**zeta - kappa*r**eta,\n",
    "        qbar - np.sum(q*dist)\n",
    "    ]\n",
    "def obj(alpha, rho, kappa, eta, zeta, r, qbar):\n",
    "    q = (alpha*r**(1-rho)+(1-alpha)*theta**(1-rho))**(1/(1-rho))\n",
    "    M = kappa*(r**(1+eta))/(1+kappa)\n",
    "    prof = (qbar**zeta)*q\n",
    "    theory = np.array([\n",
    "        np.sum(q*dist),\n",
    "        np.sum(prof*dist),\n",
    "        np.sum(M*dist)\n",
    "    ])\n",
    "    return np.sum((theory-data)**2)"
   ]
  },
  {
   "cell_type": "code",
   "execution_count": 0,
   "metadata": {},
   "outputs": [],
   "source": [
    "var0 = {\n",
    "    'alpha': np.array([0.5]),\n",
    "    'rho': np.array([1.5]),\n",
    "    'kappa': np.array([0.1]),\n",
    "    'eta': np.array([1.0]),\n",
    "    'zeta': np.array([0.02]),\n",
    "    'r': 0.1*np.ones(N),\n",
    "    'qbar': np.array([1.0])\n",
    "}"
   ]
  },
  {
   "cell_type": "code",
   "execution_count": 0,
   "metadata": {},
   "outputs": [],
   "source": [
    "%time var1 = grad_constr_jax.constrained_gradient_descent(obj, con, var0, output=True)"
   ]
  },
  {
   "cell_type": "code",
   "execution_count": 0,
   "metadata": {},
   "outputs": [],
   "source": [
    "var1"
   ]
  },
  {
   "cell_type": "code",
   "execution_count": 0,
   "metadata": {},
   "outputs": [],
   "source": []
  }
 ],
 "metadata": {
  "kernelspec": {
   "display_name": "Python 3.7",
   "language": "python",
   "name": "python3.7"
  },
  "language_info": {
   "codemirror_mode": {
    "name": "ipython",
    "version": 3
   },
   "file_extension": ".py",
   "mimetype": "text/x-python",
   "name": "python",
   "nbconvert_exporter": "python",
   "pygments_lexer": "ipython3",
   "version": "3.7.1"
  }
 },
 "nbformat": 4,
 "nbformat_minor": 4
}