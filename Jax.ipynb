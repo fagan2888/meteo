{
 "cells": [
  {
   "cell_type": "code",
   "execution_count": 0,
   "metadata": {},
   "outputs": [],
   "source": [
    "import numpy as np0\n",
    "import jax.numpy as np\n",
    "import jax.random as random\n",
    "import grad_constr_jax"
   ]
  },
  {
   "cell_type": "code",
   "execution_count": 0,
   "metadata": {},
   "outputs": [],
   "source": [
    "def con(x, y):\n",
    "    return [\n",
    "        np.sum(x*x) - 1.0,\n",
    "        np.sum(y*y) - 1.0\n",
    "    ]\n",
    "def obj(x, y):\n",
    "    return np.sum(x) + np.sum(y)"
   ]
  },
  {
   "cell_type": "code",
   "execution_count": 0,
   "metadata": {},
   "outputs": [],
   "source": [
    "key = random.PRNGKey(0)\n",
    "var0 = {\n",
    "    'x': random.uniform(key, (100,)),\n",
    "    'y': random.uniform(key, (100,))\n",
    "}"
   ]
  },
  {
   "cell_type": "code",
   "execution_count": 0,
   "metadata": {},
   "outputs": [],
   "source": [
    "%time var1 = grad_constr_jax.constrained_gradient_descent(obj, con, var0, output=True)"
   ]
  },
  {
   "cell_type": "code",
   "execution_count": 0,
   "metadata": {},
   "outputs": [],
   "source": []
  }
 ],
 "metadata": {
  "kernelspec": {
   "display_name": "Python 3.7",
   "language": "python",
   "name": "python37"
  },
  "language_info": {
   "codemirror_mode": {
    "name": "ipython",
    "version": 3
   },
   "file_extension": ".py",
   "mimetype": "text/x-python",
   "name": "python",
   "nbconvert_exporter": "python",
   "pygments_lexer": "ipython3",
   "version": "3.7.4"
  }
 },
 "nbformat": 4,
 "nbformat_minor": 4
}